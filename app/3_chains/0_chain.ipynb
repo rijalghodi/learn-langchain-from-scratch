{
 "cells": [
  {
   "cell_type": "markdown",
   "metadata": {},
   "source": [
    "# Chains\n",
    "\n",
    "Hello everyone! Here, we will explore the most important concept in langchain, \"chaining\" \n",
    "\n",
    "Concepts covered in this notebook are:\n",
    "1. [Basic Chaining](#1)\n",
    "2. [Chaining under the Hood](#2)\n",
    "3. [Extended Chaining](#3)\n",
    "4. [Parallel Chaining](#4)\n",
    "5. [Branched Chaining](#5)\n",
    "\n",
    "Prerequisites (I hope you have understood these concepts):\n",
    "1. language model\n",
    "2. prompt template\n",
    "3. output parser"
   ]
  },
  {
   "cell_type": "markdown",
   "metadata": {},
   "source": [
    "## Load environment variables"
   ]
  },
  {
   "cell_type": "code",
   "execution_count": 1,
   "metadata": {},
   "outputs": [
    {
     "data": {
      "text/plain": [
       "True"
      ]
     },
     "execution_count": 1,
     "metadata": {},
     "output_type": "execute_result"
    }
   ],
   "source": [
    "from dotenv import load_dotenv\n",
    "\n",
    "load_dotenv()\n",
    "\n",
    "## By default, load_dotenv() will assign environment variables into os.environ, like following code:\n",
    "## See environment variables in .env file\n",
    "# import os\n",
    "# os.environ[\"LANGCHAIN_TRACING_V2\"] = \"true\"\n",
    "# os.environ[\"LANGCHAIN_API_KEY\"] =  os.getenv('LANGCHAIN_API_KEY')\n",
    "# os.environ[\"OPENAPI_KEY\"] =  os.getenv('OPENAI_KEY')"
   ]
  },
  {
   "cell_type": "markdown",
   "metadata": {},
   "source": [
    "Let's create language model instance, prompt template, and output parser"
   ]
  },
  {
   "cell_type": "code",
   "execution_count": 6,
   "metadata": {},
   "outputs": [],
   "source": [
    "from langchain_openai import ChatOpenAI\n",
    "from langchain_core.prompts import ChatPromptTemplate\n",
    "from langchain_core.output_parsers import StrOutputParser \n",
    "\n",
    "model = ChatOpenAI(model=\"gpt-3.5-turbo\")\n",
    "\n",
    "prompt_template = ChatPromptTemplate([\n",
    "    (\"system\", \"Translete the following into {language}\"),\n",
    "    (\"user\", \"{text}\")\n",
    "])\n",
    "\n",
    "parser = StrOutputParser()"
   ]
  },
  {
   "cell_type": "markdown",
   "metadata": {},
   "source": [
    "# Basic Chaining\n",
    "\n",
    "\"Chaining\" is operation to combine sequential processes — for example from prompt templates to output parsers— using the pipe (`|`) operator."
   ]
  },
  {
   "cell_type": "code",
   "execution_count": 8,
   "metadata": {},
   "outputs": [
    {
     "data": {
      "text/plain": [
       "'Apa kabar?'"
      ]
     },
     "execution_count": 8,
     "metadata": {},
     "output_type": "execute_result"
    }
   ],
   "source": [
    "chain = prompt_template | model | parser\n",
    "\n",
    "chain.invoke({\"language\": \"indonesia\", \"text\": \"How are you?\"})"
   ]
  },
  {
   "cell_type": "markdown",
   "metadata": {},
   "source": [
    "## 2 - Chaining Under the Hood <div id=\"2\"></div>\n",
    "\n",
    "Chaining is incredible operation. Knowing that it is a sequential processes combination is enough. But if you want to master chaining deeply, you must understand chain under the hood. I will explain it with 3 levels of abstraction.\n",
    "\n",
    "### 2.1 - Chaining is Passing Output From Previous to Next\n",
    "\n",
    "What happens is:\n",
    "\n",
    "\n",
    "\n",
    "- We invoke `chain` object and pass arguments into it (language and text). \n",
    "- Then we pass that arguments to `prompt_template` invocation to convert it into messages as output\n",
    "- Then we pass the messages to `model` invocation to generate model answer\n",
    "- Then we pass model answer to `parser` invocation to convert it into text"
   ]
  },
  {
   "cell_type": "markdown",
   "metadata": {},
   "source": [
    "## Chaining Under the Hood\n",
    "\n",
    "Chaining works by creating a `Chain` object that takes the output of one function as input to the next.\n",
    "\n",
    "How can tis works?\n",
    "\n",
    "In LangChain, chaining operations is achieved by using the `Runnable` class and its methods:\n",
    "\n",
    "1. **`__or__` Method**:\n",
    "   - Overrides the pipe operation (`|`) to pass output from one function to the next.\n",
    "   - **Example**:\n",
    "     ```python\n",
    "     class Runnable:\n",
    "         def __or__(self, other):\n",
    "             return ChainedRunnable(self, other)\n",
    "     ```\n",
    "\n",
    "2. **`invoke` Method**:\n",
    "   - Executes the operation and processes input data, facilitating chaining.\n",
    "   - **Example**:\n",
    "     ```python\n",
    "     class Runnable:\n",
    "         def invoke(self, input_data):\n",
    "             # Process input_data\n",
    "             pass\n",
    "     ```\n",
    "\n",
    "### Example\n",
    "\n",
    "```python\n",
    "class ChainedRunnable(Runnable):\n",
    "    def __init__(self, left, right):\n",
    "        self.left = left\n",
    "        self.right = right\n",
    "\n",
    "    def invoke(self, input_data):\n",
    "        return self.right.invoke(self.left.invoke(input_data))\n",
    "```\n",
    "\n",
    "By using `Runnable` with these methods, components like `model`, `prompt_template`, and `parser` can be chained, passing the output from one to the next seamlessly.\n"
   ]
  },
  {
   "cell_type": "markdown",
   "metadata": {},
   "source": []
  }
 ],
 "metadata": {
  "kernelspec": {
   "display_name": ".venv",
   "language": "python",
   "name": "python3"
  },
  "language_info": {
   "codemirror_mode": {
    "name": "ipython",
    "version": 3
   },
   "file_extension": ".py",
   "mimetype": "text/x-python",
   "name": "python",
   "nbconvert_exporter": "python",
   "pygments_lexer": "ipython3",
   "version": "3.12.3"
  }
 },
 "nbformat": 4,
 "nbformat_minor": 2
}
