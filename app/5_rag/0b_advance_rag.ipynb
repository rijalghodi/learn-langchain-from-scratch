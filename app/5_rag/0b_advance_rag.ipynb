{
 "cells": [
  {
   "cell_type": "markdown",
   "metadata": {},
   "source": [
    "# Advance RAG\n",
    "\n",
    "1 - Load Document\n",
    "1 - Split Document\n",
    "2 - Web Scrap\n",
    "5 - Embedding\n",
    "3 - Similarity vs MMR\n",
    "\n",
    "https://api.python.langchain.com/en/latest/vectorstores/langchain_core.vectorstores.VectorStore.html"
   ]
  },
  {
   "cell_type": "code",
   "execution_count": 1,
   "metadata": {},
   "outputs": [
    {
     "data": {
      "text/plain": [
       "True"
      ]
     },
     "execution_count": 1,
     "metadata": {},
     "output_type": "execute_result"
    }
   ],
   "source": [
    "from dotenv import load_dotenv\n",
    "\n",
    "load_dotenv()"
   ]
  },
  {
   "cell_type": "markdown",
   "metadata": {},
   "source": [
    "## 1 - Load Document\n",
    "\n",
    "To load documents in LangChain, you can use various document loaders depending on the file type. Here are some methods\n",
    "\n",
    "1.  For PDFs: Use PyPDFLoader to load PDF documents into LangChain's Document format."
   ]
  },
  {
   "cell_type": "code",
   "execution_count": 3,
   "metadata": {},
   "outputs": [
    {
     "data": {
      "text/plain": [
       "[Document(metadata={'source': 'pdfs/sangkuriang.pdf', 'page': 0}, page_content='Sangkuriang Story\\nThe legend tells that, long ago, there lived a beautiful woman named Dayang Sumbi, the daughter\\nof the king of Sumbing Perbangkara. Her beautiful face made Dayang Sumbi contested by the\\nprinces.\\nAs a princess from the kingdom, Dayang Sumbi has a weaving hobby. One time, when she was\\nbusy weaving cloth, suddenly her loom fell. Instead of taking it herself, Dayang Sumbi said an oath:\\nif the one who took the loom were a man, then she would take him as her husba nd, but if the one\\nwho took the loom were a woman, she would make her a sister.\\nUnexpectedly, sometime later, there came a male dog named Si Tuma ng, which brought Dayang\\nSumbi’s loom. Finally, to fulfill her oath, Dayang Sumbi married Tumang (long story short, Tumang\\nwas a god who was expelled from heaven). From that marriage, a son named Sangkuria ng was\\nborn.\\nTime went on until Sangkuriang grew into a handsome boy. One day, Sangkuriang found out t hat\\nhis mother wanted to eat a deer’s liver. Sangkuriang also hunted into the forest with Tumang. While\\nhunting, Sangkuriang felt upset because he hadn’t successfully hunted any animals. Then,  he\\ndecided to kill Tumang and gave Tumang’s heart to his mother.\\nMoments later, Dayang Sumbi found out that Sangkuriang had killed Tumang. Furiously, Dayang\\nSumbi hit Sangkuriang’s head and threw him out of the house.\\nYears later, Sangkuriang, who was kicked out of the house, had grown into a handsome  man. While\\nDayang Sumbi remained young, this was because at that time Dayang Sumbi ate Tumang’s liver.\\nOne day, Sangkuriang met Dayang Sumbi again, and they fell in love with each other.\\nDayang Sumbi, who finally found out that the young man was her biological son who ha d been\\nexpelled for years, insisted on refusing and decided on Sangkuriang to do an impossible assignment.\\nDayang Sumbi said that if Sangkuriang wanted to marry her, he had to build a big boat in just one\\nnight. Sangkuriang also agreed. With the help of the spirits, Sangkuriang almost suc ceeded in the\\ntask before dawn.\\nHowever, Dayang Sumbi did not remain silent. She and the women around her pounded t he mortar\\nand made it look like the dawn had come. The spirits fled, so Sangkuriang fa iled to finish his boat.\\nThis made Sangkuriang furious and kicked the boat upside down. The overturned boat is now\\nknown as Mount Tangkuban Perahu.')]"
      ]
     },
     "execution_count": 3,
     "metadata": {},
     "output_type": "execute_result"
    }
   ],
   "source": [
    "from langchain_community.document_loaders import PyPDFLoader\n",
    "loader = PyPDFLoader(\"pdfs/sangkuriang.pdf\")\n",
    "loader.load()"
   ]
  },
  {
   "cell_type": "markdown",
   "metadata": {},
   "source": [
    "2. For Text files: Use TextLoader"
   ]
  },
  {
   "cell_type": "code",
   "execution_count": 6,
   "metadata": {},
   "outputs": [
    {
     "data": {
      "text/plain": [
       "[Document(metadata={'source': 'books/sangkuriang.txt'}, page_content='Sangkuriang Story\\nThe legend tells that, long ago, there lived a beautiful woman named Dayang Sumbi, the daughter of the king of Sumbing Perbangkara. Her beautiful face made Dayang Sumbi contested by the princes.\\nAs a princess from the kingdom, Dayang Sumbi has a weaving hobby. One time, when she was busy weaving cloth, suddenly her loom fell. Instead of taking it herself, Dayang Sumbi said an oath: if the one who took the loom were a man, then she would take him as her husband, but if the one who took the loom were a woman, she would make her a sister.\\nUnexpectedly, sometime later, there came a male dog named Si Tumang, which brought Dayang Sumbi’s loom. Finally, to fulfill her oath, Dayang Sumbi married Tumang (long story short, Tumang was a god who was expelled from heaven). From that marriage, a son named Sangkuriang was born.\\nTime went on until Sangkuriang grew into a handsome boy. One day, Sangkuriang found out that his mother wanted to eat a deer’s liver. Sangkuriang also hunted into the forest with Tumang. While hunting, Sangkuriang felt upset because he hadn’t successfully hunted any animals. Then, he decided to kill Tumang and gave Tumang’s heart to his mother.\\nMoments later, Dayang Sumbi found out that Sangkuriang had killed Tumang. Furiously, Dayang Sumbi hit Sangkuriang’s head and threw him out of the house.\\nYears later, Sangkuriang, who was kicked out of the house, had grown into a handsome man. While Dayang Sumbi remained young, this was because at that time Dayang Sumbi ate Tumang’s liver. One day, Sangkuriang met Dayang Sumbi again, and they fell in love with each other.\\nDayang Sumbi, who finally found out that the young man was her biological son who had been expelled for years, insisted on refusing and decided on Sangkuriang to do an impossible assignment.\\nDayang Sumbi said that if Sangkuriang wanted to marry her, he had to build a big boat in just one night. Sangkuriang also agreed. With the help of the spirits, Sangkuriang almost succeeded in the task before dawn.\\nHowever, Dayang Sumbi did not remain silent. She and the women around her pounded the mortar and made it look like the dawn had come. The spirits fled, so Sangkuriang failed to finish his boat. This made Sangkuriang furious and kicked the boat upside down. The overturned boat is now known as Mount Tangkuban Perahu.\\n')]"
      ]
     },
     "execution_count": 6,
     "metadata": {},
     "output_type": "execute_result"
    }
   ],
   "source": [
    "from langchain_community.document_loaders import TextLoader\n",
    "\n",
    "loader = TextLoader('books/sangkuriang.txt')\n",
    "\n",
    "doc = loader.load()\n",
    "\n",
    "doc"
   ]
  },
  {
   "cell_type": "markdown",
   "metadata": {},
   "source": [
    "# Text Splitter"
   ]
  },
  {
   "cell_type": "markdown",
   "metadata": {},
   "source": [
    "### 1. Character Text Splitter\n",
    "Splits text into chunks based on a specified number of characters.\n",
    "Useful for consistent chunk sizes regardless of content structure."
   ]
  },
  {
   "cell_type": "code",
   "execution_count": 24,
   "metadata": {},
   "outputs": [
    {
     "data": {
      "text/plain": [
       "[Document(metadata={'source': 'books/sangkuriang.txt'}, page_content='Sangkuriang Story\\nThe legend tells that, long ago, there lived a beautiful woman named Dayang Sumbi, the daughter of the king of Sumbing Perbangkara. Her beautiful face made Dayang Sumbi contested by the princes.\\nAs a princess from the kingdom, Dayan'),\n",
       " Document(metadata={'source': 'books/sangkuriang.txt'}, page_content='g Sumbi has a weaving hobby. One time, when she was busy weaving cloth, suddenly her loom fell. Instead of taking it herself, Dayang Sumbi said an oath: if the one who took the loom were a man, then she would take him as her husband, but if the one w'),\n",
       " Document(metadata={'source': 'books/sangkuriang.txt'}, page_content='ho took the loom were a woman, she would make her a sister.\\nUnexpectedly, sometime later, there came a male dog named Si Tumang, which brought Dayang Sumbi’s loom. Finally, to fulfill her oath, Dayang Sumbi married Tumang (long story short, Tumang wa'),\n",
       " Document(metadata={'source': 'books/sangkuriang.txt'}, page_content='s a god who was expelled from heaven). From that marriage, a son named Sangkuriang was born.\\nTime went on until Sangkuriang grew into a handsome boy. One day, Sangkuriang found out that his mother wanted to eat a deer’s liver. Sangkuriang also hunted'),\n",
       " Document(metadata={'source': 'books/sangkuriang.txt'}, page_content='into the forest with Tumang. While hunting, Sangkuriang felt upset because he hadn’t successfully hunted any animals. Then, he decided to kill Tumang and gave Tumang’s heart to his mother.\\nMoments later, Dayang Sumbi found out that Sangkuriang had k'),\n",
       " Document(metadata={'source': 'books/sangkuriang.txt'}, page_content='illed Tumang. Furiously, Dayang Sumbi hit Sangkuriang’s head and threw him out of the house.\\nYears later, Sangkuriang, who was kicked out of the house, had grown into a handsome man. While Dayang Sumbi remained young, this was because at that time Da'),\n",
       " Document(metadata={'source': 'books/sangkuriang.txt'}, page_content='yang Sumbi ate Tumang’s liver. One day, Sangkuriang met Dayang Sumbi again, and they fell in love with each other.\\nDayang Sumbi, who finally found out that the young man was her biological son who had been expelled for years, insisted on refusing and'),\n",
       " Document(metadata={'source': 'books/sangkuriang.txt'}, page_content='decided on Sangkuriang to do an impossible assignment.\\nDayang Sumbi said that if Sangkuriang wanted to marry her, he had to build a big boat in just one night. Sangkuriang also agreed. With the help of the spirits, Sangkuriang almost succeeded in th'),\n",
       " Document(metadata={'source': 'books/sangkuriang.txt'}, page_content='e task before dawn.\\nHowever, Dayang Sumbi did not remain silent. She and the women around her pounded the mortar and made it look like the dawn had come. The spirits fled, so Sangkuriang failed to finish his boat. This made Sangkuriang furious and ki'),\n",
       " Document(metadata={'source': 'books/sangkuriang.txt'}, page_content='cked the boat upside down. The overturned boat is now known as Mount Tangkuban Perahu.')]"
      ]
     },
     "execution_count": 24,
     "metadata": {},
     "output_type": "execute_result"
    }
   ],
   "source": [
    "from langchain.text_splitter import CharacterTextSplitter\n",
    "\n",
    "# Split the document into chunks\n",
    "splitter = CharacterTextSplitter(separator=\"\", chunk_size=250, chunk_overlap=0)\n",
    "splitter.split_documents(doc)"
   ]
  },
  {
   "cell_type": "markdown",
   "metadata": {},
   "source": [
    "### Sentence Transformers Token Text Splitter\n",
    "Splits text into chunks based on sentences, ensuring chunks end at sentence boundaries. \n",
    "Ideal for maintaining semantic coherence within chunks."
   ]
  },
  {
   "cell_type": "code",
   "execution_count": null,
   "metadata": {},
   "outputs": [],
   "source": [
    "from langchain.text_splitter import SentenceTransformersTokenTextSplitter\n",
    "\n",
    "splitter = SentenceTransformersTokenTextSplitter(chunk_size=250)\n",
    "splitter.split_documents(doc)"
   ]
  },
  {
   "cell_type": "markdown",
   "metadata": {},
   "source": [
    "Splits text into chunks based on tokens (words or subwords), using tokenizers like GPT-2.\n",
    "Useful for transformer models with strict token limits. "
   ]
  },
  {
   "cell_type": "code",
   "execution_count": 27,
   "metadata": {},
   "outputs": [
    {
     "data": {
      "text/plain": [
       "[Document(metadata={'source': 'books/sangkuriang.txt'}, page_content='Sangkuriang Story\\nThe legend tells that, long ago, there lived a beautiful woman named Dayang Sumbi, the daughter of the king of Sumbing Perbangkara. Her beautiful face made Dayang Sumbi contested by the princes.\\nAs a princess from the kingdom, Dayang Sumbi has a weaving hobby. One time, when she was busy weaving cloth, suddenly her loom fell. Instead of taking it herself, Dayang Sumbi said an oath: if the one who took the loom were a man, then she would take him as her husband, but if the one who took the loom were a woman, she would make her a sister.\\nUnexpectedly, sometime later, there came a male dog named Si Tumang, which brought Dayang Sumbi’s loom. Finally, to fulfill her oath, Dayang Sumbi married Tumang (long story short, Tumang was a god who was expelled from heaven). From that marriage, a son named Sangkuriang was born.\\nTime went on until Sangkuriang grew into a handsome boy. One day, Sangkuriang found out that his mother'),\n",
       " Document(metadata={'source': 'books/sangkuriang.txt'}, page_content=' wanted to eat a deer’s liver. Sangkuriang also hunted into the forest with Tumang. While hunting, Sangkuriang felt upset because he hadn’t successfully hunted any animals. Then, he decided to kill Tumang and gave Tumang’s heart to his mother.\\nMoments later, Dayang Sumbi found out that Sangkuriang had killed Tumang. Furiously, Dayang Sumbi hit Sangkuriang’s head and threw him out of the house.\\nYears later, Sangkuriang, who was kicked out of the house, had grown into a handsome man. While Dayang Sumbi remained young, this was because at that time Dayang Sumbi ate Tumang’s liver. One day, Sangkuriang met Dayang Sumbi again, and they fell in love with each other.\\nDayang Sumbi, who finally found out that the young man was her biological son who had been expelled for years, insisted on refusing and decided on Sangkuriang to do an impossible assignment.\\nDayang Sumbi said that if Sangkuriang wanted to marry her'),\n",
       " Document(metadata={'source': 'books/sangkuriang.txt'}, page_content=', he had to build a big boat in just one night. Sangkuriang also agreed. With the help of the spirits, Sangkuriang almost succeeded in the task before dawn.\\nHowever, Dayang Sumbi did not remain silent. She and the women around her pounded the mortar and made it look like the dawn had come. The spirits fled, so Sangkuriang failed to finish his boat. This made Sangkuriang furious and kicked the boat upside down. The overturned boat is now known as Mount Tangkuban Perahu.\\n')]"
      ]
     },
     "execution_count": 27,
     "metadata": {},
     "output_type": "execute_result"
    }
   ],
   "source": [
    "from langchain.text_splitter import TokenTextSplitter\n",
    "\n",
    "splitter = TokenTextSplitter(chunk_overlap=0, chunk_size=250)\n",
    "splitter.split_documents(doc)"
   ]
  },
  {
   "cell_type": "markdown",
   "metadata": {},
   "source": [
    "Attempts to split text at natural boundaries (sentences, paragraphs) within character limit.        \n",
    "Balances between maintaining coherence and adhering to character limits."
   ]
  },
  {
   "cell_type": "code",
   "execution_count": 28,
   "metadata": {},
   "outputs": [
    {
     "data": {
      "text/plain": [
       "[Document(metadata={'source': 'books/sangkuriang.txt'}, page_content='Sangkuriang Story\\nThe legend tells that, long ago, there lived a beautiful woman named Dayang Sumbi, the daughter of the king of Sumbing Perbangkara. Her beautiful face made Dayang Sumbi contested by the princes.'),\n",
       " Document(metadata={'source': 'books/sangkuriang.txt'}, page_content='As a princess from the kingdom, Dayang Sumbi has a weaving hobby. One time, when she was busy weaving cloth, suddenly her loom fell. Instead of taking it herself, Dayang Sumbi said an oath: if the one who took the loom were a man, then she would'),\n",
       " Document(metadata={'source': 'books/sangkuriang.txt'}, page_content='take him as her husband, but if the one who took the loom were a woman, she would make her a sister.'),\n",
       " Document(metadata={'source': 'books/sangkuriang.txt'}, page_content='Unexpectedly, sometime later, there came a male dog named Si Tumang, which brought Dayang Sumbi’s loom. Finally, to fulfill her oath, Dayang Sumbi married Tumang (long story short, Tumang was a god who was expelled from heaven). From that marriage,'),\n",
       " Document(metadata={'source': 'books/sangkuriang.txt'}, page_content='a son named Sangkuriang was born.'),\n",
       " Document(metadata={'source': 'books/sangkuriang.txt'}, page_content='Time went on until Sangkuriang grew into a handsome boy. One day, Sangkuriang found out that his mother wanted to eat a deer’s liver. Sangkuriang also hunted into the forest with Tumang. While hunting, Sangkuriang felt upset because he hadn’t'),\n",
       " Document(metadata={'source': 'books/sangkuriang.txt'}, page_content='successfully hunted any animals. Then, he decided to kill Tumang and gave Tumang’s heart to his mother.'),\n",
       " Document(metadata={'source': 'books/sangkuriang.txt'}, page_content='Moments later, Dayang Sumbi found out that Sangkuriang had killed Tumang. Furiously, Dayang Sumbi hit Sangkuriang’s head and threw him out of the house.'),\n",
       " Document(metadata={'source': 'books/sangkuriang.txt'}, page_content='Years later, Sangkuriang, who was kicked out of the house, had grown into a handsome man. While Dayang Sumbi remained young, this was because at that time Dayang Sumbi ate Tumang’s liver. One day, Sangkuriang met Dayang Sumbi again, and they fell in'),\n",
       " Document(metadata={'source': 'books/sangkuriang.txt'}, page_content='love with each other.'),\n",
       " Document(metadata={'source': 'books/sangkuriang.txt'}, page_content='Dayang Sumbi, who finally found out that the young man was her biological son who had been expelled for years, insisted on refusing and decided on Sangkuriang to do an impossible assignment.'),\n",
       " Document(metadata={'source': 'books/sangkuriang.txt'}, page_content='Dayang Sumbi said that if Sangkuriang wanted to marry her, he had to build a big boat in just one night. Sangkuriang also agreed. With the help of the spirits, Sangkuriang almost succeeded in the task before dawn.'),\n",
       " Document(metadata={'source': 'books/sangkuriang.txt'}, page_content='However, Dayang Sumbi did not remain silent. She and the women around her pounded the mortar and made it look like the dawn had come. The spirits fled, so Sangkuriang failed to finish his boat. This made Sangkuriang furious and kicked the boat'),\n",
       " Document(metadata={'source': 'books/sangkuriang.txt'}, page_content='upside down. The overturned boat is now known as Mount Tangkuban Perahu.')]"
      ]
     },
     "execution_count": 28,
     "metadata": {},
     "output_type": "execute_result"
    }
   ],
   "source": [
    "from langchain.text_splitter import RecursiveCharacterTextSplitter\n",
    "\n",
    "splitter = RecursiveCharacterTextSplitter(\n",
    "    chunk_size=250, chunk_overlap=0)\n",
    "splitter.split_documents(doc)"
   ]
  },
  {
   "cell_type": "markdown",
   "metadata": {},
   "source": [
    "## Web Scrapping"
   ]
  },
  {
   "cell_type": "code",
   "execution_count": 22,
   "metadata": {},
   "outputs": [
    {
     "data": {
      "text/plain": [
       "\"\\n\\n\\n\\n\\n\\n\\n\\n\\n\\n\\n\\n\\nApple\\n\\n\\n\\n\\n\\n\\n\\n\\n\\n\\n\\n\\n\\n\\n\\n\\n\\n\\nApple\\n\\nAppleStoreMaciPadiPhoneWatchVisionAirPodsTV & HomeEntertainmentAccessoriesSupport\\n\\n\\n0+\\n\\n\\n\\n\\n\\n\\n\\n\\n\\n\\t\\t\\t\\t\\t\\t\\t\\t\\tFor a limited time, shop your state's eligible products tax‑free — online and\\xa0in‑store. Learn\\xa0more\\n\\n\\n\\n\\n\\n\\n\\n\\n\\n\\n\\xa0\\n\\nApple Vision Pro\\nYou’ve never seen everything like this before.\\n\\nLearn more\\nBuy\\n\\nStream Napoleon on Apple\\xa0TV+\\n\\n\\n\\n\\n\\n\\n\\n\\n\\n\\n\\n\\n\\n \\n\\n\\n\\n\\n\\xa0\\n\\n\\xa0\\n\\n\\n\\n\\n\\nBuy Mac or\\xa0iPad for\\xa0college\\n\\n\\n\\n\\n\\n\\n\\n\\n\\n\\nwith education savings\\n\\n\\n\\n\\n\\n\\n\\nGet a gift card up\\xa0to\\xa0$150*\\n\\n\\n\\n\\n\\n\\n\\n\\nOnly at the Apple\\xa0Store\\n\\n\\n\\n\\nShop\\n\\n\\n\\n\\n\\n\\nBuy Mac or\\xa0iPad for\\xa0college\\n\\n\\n\\n\\n\\n\\n\\n\\n\\n\\nwith education savings\\n\\n\\n\\n\\n\\n\\n\\nGet AirPods with\\xa0Mac*\\n\\n\\n\\n\\n\\n\\n\\n\\nApple\\xa0Pencil with\\xa0iPad*\\n\\n\\n\\n\\n\\n\\n\\n\\nOnly at the Apple\\xa0Store\\n\\n\\n\\n\\nShop\\n\\n\\n \\n\\n\\n\\n\\n\\xa0\\n\\nMacBook\\xa0Air\\nLean. Mean. M3 machine.\\n\\nLearn more\\nBuy\\n\\n\\n\\n\\n\\n\\n\\n\\n\\n\\n\\n\\n\\n\\n\\xa0\\n\\niPhone\\nOur most powerful cameras yet. Ultrafast chips. And USB-C.\\n\\nLearn more\\nShop iPhone\\n\\n\\n\\n\\n\\n\\n\\n\\n\\n\\n\\n\\xa0\\n\\nApple Intelligence\\nAI for the rest of us.\\nComing in beta this fall1\\n\\nLearn more\\nWatch the film\\n\\n\\n\\n\\n\\n\\n\\n\\n\\n\\n\\n\\n\\xa0\\n\\niPad Pro\\nUnbelievably thin. Incredibly\\xa0powerful.\\n\\nLearn more\\nBuy\\n\\n\\n\\n\\n\\n\\n\\n\\n\\n\\n\\n\\n\\xa0\\n\\nApple Watch Series 9\\nSmarter. Brighter. Mightier.\\n\\nLearn more\\nBuy\\n\\n\\n\\n\\n\\n\\n\\n\\n\\n\\n\\n\\n\\xa0\\n\\nApple Card\\nGet up to 3% Daily\\xa0Cash back with every purchase.\\n\\nLearn more\\nApply now\\nApply now\\n\\n\\n\\n\\n\\n\\n\\n\\n\\n\\n\\n\\n\\xa0\\n\\nApple Trade In\\nGet $170-$620 in credit when you trade in iPhone\\xa011 or higher.2\\n\\nGet your estimate\\n\\n\\n\\n\\n\\n\\n\\n\\n\\n\\n\\n\\n\\xa0\\n\\t\\t\\t\\t\\t\\t\\t\\t\\t\\n\\nTax Holiday starts soon.\\nGet ready to shop eligible products tax-free.\\n\\nLearn more\\n\\n\\n\\n\\n\\n\\n\\n\\n\\n\\n\\n\\n\\nApple TV+\\n\\n\\n\\n\\n\\n\\n\\n\\n\\n\\n\\n\\n\\n\\n\\n\\n\\n\\n\\nFAM Gallery\\n\\n\\n\\n\\n\\nWatch now\\n\\n\\n\\nStronger Arms, Chest, and Back in 21 Days\\n\\n\\n\\n\\n\\nPlay now\\n\\n\\n\\nNBA 2K24 Arcade Edition\\n\\n\\n\\n\\n\\nListen now\\n\\n\\n\\n\\nToday’s Country\\n\\n\\n\\n\\n\\nWatch now\\n\\n\\n\\nCore with Kyle\\n\\n\\n\\n\\n\\nPlay now\\n\\n\\n\\nHello Kitty Island Adventure\\n\\n\\n\\n\\n\\nListen now\\n\\n\\n\\n\\nR&B Now\\n\\n\\n\\n\\n\\n\\n\\n\\n\\n\\n\\n\\nApple Footer\\n\\n\\n* Available for Qualified Purchasers only. Qualified Purchasers receive an Apple\\xa0Gift\\xa0Card when they purchase an Eligible Product at a Qualifying Location through September 30, 2024. Gift card values may vary by Eligible Product. Only one Apple\\xa0Gift\\xa0Card per Eligible Product per Qualified Purchaser. Offer subject to availability. While supplies last. Qualified Purchasers shall receive a discount equal to the value of the Apple\\xa0Gift\\xa0Card off the price of the Eligible Product, but will be charged for all items in their cart, including the Apple\\xa0Gift\\xa0Card. Important notice regarding the checkout receipt and monthly statement for Apple\\xa0Card Monthly Installments (ACMI) purchases with this promotion: Qualified Purchasers selecting ACMI (a 0% APR payment option available only in the U.S.) as payment type at checkout shall receive a discount equal to the value of the Apple\\xa0Gift\\xa0Card off the price of the Eligible Product. This will result in one ACMI installment plan over 12 months for the Eligible Product discounted by the instant credit, and a second ACMI installment plan over 12 months for the full price of the Apple\\xa0Gift\\xa0Card. The total combined amount charged over the two separate ACMI installment plans will reflect the original full retail price of the Eligible Product. Separately, Qualified Purchasers will receive and be charged for the Apple\\xa0Gift\\xa0Card in the amount of the applicable discount off the Eligible Product. Apple\\xa0Card Monthly Installments (ACMI) is a 0% APR payment option that is only available if you select it at checkout in the U.S. for eligible products purchased at Apple\\xa0Store locations, apple.com, the Apple\\xa0Store app, or by calling 1-800-MY-APPLE, and is subject to credit approval and credit limit. See support.apple.com/kb/HT211204 for more information about eligible products. APR ranges may vary based on when you accepted an Apple\\xa0Card. Cardholders who accept an Apple\\xa0Card on and or after February 1, 2024: Variable APRs for Apple\\xa0Card, other than ACMI, range from 19.24% to 29.49% based on creditworthiness. Rates as of February 1, 2024. Existing cardholders: See your Customer Agreement for applicable rates and fee. If you buy an ACMI-eligible product by choosing to pay in full with Apple\\xa0Card (instead of using ACMI), that purchase is subject to the Apple\\xa0Card variable APR, not 0% APR. Taxes and shipping on ACMI purchases are subject to the variable APR, not 0% APR. When you buy an iPhone with ACMI, you’ll need to select AT&T, T-Mobile, or Verizon as your carrier when you check out. An iPhone purchased with ACMI is always unlocked, so you can switch carriers at any time. ACMI is not available for purchases made online at the following special stores: Apple Employee Purchase Plan; participating corporate Employee Purchase Programs; Apple at Work for small businesses; Government and Veterans and Military Purchase Programs; or on refurbished devices. The last month’s payment for each product will be the product’s purchase price, less all other payments at the monthly payment amount. ACMI financing is subject to change at any time for any reason, including but not limited to installment term lengths and eligible products. See support.apple.com/kb/HT211204 for information about upcoming changes to ACMI financing. See the Apple\\xa0Card Customer Agreement for more information about ACMI financing. Apple\\xa0Card is issued by Goldman Sachs Bank USA, Salt Lake City Branch. Available for qualifying applicants in the United States. If you reside in the U.S. territories, please call Goldman Sachs at 877-255-5923 with questions about accessing this offer or applying for Apple\\xa0Card. This offer cannot be combined with the Apple Employee Purchase Plan or business loyalty pricing. Additional restrictions apply. View full terms and conditions of offer here.\\n1. Apple\\xa0Intelligence will be available in beta on iPhone\\xa015\\xa0Pro, iPhone\\xa015\\xa0Pro\\xa0Max, and iPad and Mac with M1 and later, with Siri and device language set to U.S. English, as part of iOS\\xa018, iPadOS\\xa018, and macOS\\xa0Sequoia this fall.\\n\\n2. Trade-in values will vary based on the condition, year, and configuration of your eligible trade-in device. Not all devices are eligible for credit. You must be at least 18 years old to be eligible to trade in for credit or for an Apple\\xa0Gift\\xa0Card. Trade-in value may be applied toward qualifying new device purchase, or added to an Apple\\xa0Gift\\xa0Card. Actual value awarded is based on receipt of a qualifying device matching the description provided when estimate was made. Sales tax may be assessed on full value of a new device purchase. In-store trade-in requires presentation of a valid photo ID (local law may require saving this information). Offer may not be available in all stores, and may vary between in-store and online trade-in. Some stores may have additional requirements. Apple or its trade-in partners reserve the right to refuse or limit quantity of any trade-in transaction for any reason. More details are available from Apple’s trade-in partner for trade-in and recycling of eligible devices. Restrictions and limitations may apply.\\nAvailable in the U.S. on apple.com, in the Apple\\xa0Store app, and at Apple\\xa0Stores.\\nTo access and use all Apple\\xa0Card features and products available only to Apple\\xa0Card users, you must add Apple\\xa0Card to Wallet on an iPhone or iPad that supports and has the latest version of iOS or iPadOS. Apple\\xa0Card is subject to credit approval, available only for qualifying applicants in the United States, and issued by Goldman Sachs Bank USA, Salt Lake City Branch. \\nIf you reside in the U.S. territories, please call Goldman Sachs at 877-255-5923 with questions about Apple\\xa0Card.\\nLearn more about how Apple\\xa0Card applications are evaluated at support.apple.com/kb/HT209218.\\nA subscription is required for Apple\\xa0TV+.\\nMajor League Baseball trademarks and copyrights are used with permission of MLB Advanced Media, L.P. All rights reserved.\\nA subscription is required for Apple\\xa0Arcade, Apple\\xa0Fitness+, and Apple\\xa0Music.\\n\\n\\n\\n\\n\\n\\nShop and Learn\\n\\nShop and Learn\\n\\n\\n\\n\\nStore\\nMac\\niPad\\niPhone\\nWatch\\nVision\\nAirPods\\nTV & Home\\nAirTag\\nAccessories\\nGift Cards\\n\\n\\n\\n\\nApple Wallet\\n\\nApple Wallet\\n\\n\\n\\n\\nWallet\\nApple\\xa0Card\\nApple\\xa0Pay\\nApple\\xa0Cash\\n\\n\\n\\n\\n\\n\\nAccount\\n\\nAccount\\n\\n\\n\\n\\nManage Your Apple\\xa0ID\\nApple Store Account\\niCloud.com\\n\\n\\n\\n\\nEntertainment\\n\\nEntertainment\\n\\n\\n\\n\\nApple\\xa0One\\nApple\\xa0TV+\\nApple\\xa0Music\\nApple\\xa0Arcade\\nApple\\xa0Fitness+\\nApple\\xa0News+\\nApple Podcasts\\nApple\\xa0Books\\nApp\\xa0Store\\n\\n\\n\\n\\n\\n\\nApple Store\\n\\nApple Store\\n\\n\\n\\n\\nFind a Store\\nGenius Bar\\nToday at Apple\\nGroup Reservations\\nApple Camp\\nApple Store App\\nCertified Refurbished\\nApple\\xa0Trade\\xa0In\\nFinancing\\nCarrier Deals at Apple\\nOrder Status\\nShopping Help\\n\\n\\n\\n\\n\\n\\nFor Business\\n\\nFor Business\\n\\n\\n\\n\\nApple and Business\\nShop for Business\\n\\n\\n\\n\\nFor Education\\n\\nFor Education\\n\\n\\n\\n\\nApple and Education\\nShop for K-12\\nShop for College\\n\\n\\n\\n\\nFor Healthcare\\n\\nFor Healthcare\\n\\n\\n\\n\\nApple in Healthcare\\nMac in Healthcare\\nHealth on Apple\\xa0Watch\\nHealth Records on iPhone and iPad\\n\\n\\n\\n\\nFor Government\\n\\nFor Government\\n\\n\\n\\n\\nShop for Government\\nShop for Veterans and Military\\n\\n\\n\\n\\n\\n\\nApple Values\\n\\nApple Values\\n\\n\\n\\n\\nAccessibility\\nEducation\\nEnvironment\\nInclusion and Diversity\\nPrivacy\\nRacial Equity and Justice\\nSupply Chain\\n\\n\\n\\n\\nAbout Apple\\n\\nAbout Apple\\n\\n\\n\\n\\nNewsroom\\nApple Leadership\\nCareer Opportunities\\nInvestors\\nEthics & Compliance\\nEvents\\nContact Apple\\n\\n\\n\\n\\n\\n\\n\\t\\t\\tMore ways to shop: Find an Apple Store or other retailer near you. Or call 1-800-MY-APPLE.\\n\\n\\nUnited States\\n\\n\\nCopyright ©\\n\\t\\t\\t\\t\\n\\t\\t\\t\\t2024\\n\\t\\t\\t\\t Apple Inc. All rights reserved.\\n\\t\\t\\t\\n\\n\\nPrivacy Policy\\n\\n\\nTerms of Use\\n\\n\\nSales and Refunds\\n\\n\\nLegal\\n\\n\\nSite Map\\n\\n\\n\\n\\n\\n\\n\\n\\n\\n\\n\\n\\n\\n\\n\\n\\n\\n\\n\""
      ]
     },
     "execution_count": 22,
     "metadata": {},
     "output_type": "execute_result"
    }
   ],
   "source": [
    "from langchain_community.document_loaders import WebBaseLoader\n",
    "\n",
    "# WebBaseLoader loads web pages and extracts their content\n",
    "urls = [\"https://www.apple.com/\"]\n",
    "\n",
    "# Create a loader for web content\n",
    "loader = WebBaseLoader(urls)\n",
    "apple_doc = loader.load()\n",
    "\n",
    "apple_doc[0].page_content"
   ]
  },
  {
   "cell_type": "markdown",
   "metadata": {},
   "source": [
    "## Youtube Scrapping"
   ]
  },
  {
   "cell_type": "markdown",
   "metadata": {},
   "source": [
    "## Embedding Deep Dive"
   ]
  },
  {
   "cell_type": "markdown",
   "metadata": {},
   "source": [
    "## Retriever Deep Dive"
   ]
  },
  {
   "cell_type": "markdown",
   "metadata": {},
   "source": [
    "# Modify Vector DB"
   ]
  },
  {
   "cell_type": "code",
   "execution_count": null,
   "metadata": {},
   "outputs": [],
   "source": [
    "uuids = [str(i) for i in range(len(documents))]\n",
    "\n",
    "vectorstore.add_documents(documents=documents, ids=uuids)"
   ]
  }
 ],
 "metadata": {
  "kernelspec": {
   "display_name": ".venv",
   "language": "python",
   "name": "python3"
  },
  "language_info": {
   "codemirror_mode": {
    "name": "ipython",
    "version": 3
   },
   "file_extension": ".py",
   "mimetype": "text/x-python",
   "name": "python",
   "nbconvert_exporter": "python",
   "pygments_lexer": "ipython3",
   "version": "3.12.3"
  }
 },
 "nbformat": 4,
 "nbformat_minor": 2
}
