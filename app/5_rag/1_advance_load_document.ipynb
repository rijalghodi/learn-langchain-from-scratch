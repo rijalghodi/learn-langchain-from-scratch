{
 "cells": [
  {
   "cell_type": "markdown",
   "metadata": {},
   "source": [
    "# Advance Load Document\n",
    "\n",
    "In real life, text or documents may come from various sources. LangChain provides loaders to import different document sources into the LangChain document format. Here are some:\n",
    "\n",
    "1. `TextLoader` for loading text files.\n",
    "2. `PyPDFLoader` for loading PDF documents.\n",
    "3. `CSVLoader` for loading CSV files.\n",
    "4. `JSONLoader` for loading JSON files.\n",
    "5. ...etc.\n",
    "\n",
    "Refer to [this documentation](https://python.langchain.com/v0.2/docs/how_to/#document-loaders) for more information"
   ]
  },
  {
   "cell_type": "code",
   "execution_count": 5,
   "metadata": {},
   "outputs": [
    {
     "data": {
      "text/plain": [
       "True"
      ]
     },
     "execution_count": 5,
     "metadata": {},
     "output_type": "execute_result"
    }
   ],
   "source": [
    "from dotenv import load_dotenv\n",
    "\n",
    "load_dotenv()"
   ]
  },
  {
   "cell_type": "code",
   "execution_count": 6,
   "metadata": {},
   "outputs": [
    {
     "data": {
      "text/plain": [
       "[Document(metadata={'source': './sources/sangkuriang.txt'}, page_content='Sangkuriang Story\\nThe legend tells that, long ago, there lived a beautiful woman named Dayang Sumbi, the daughter of the king of Sumbing Perbangkara. Her beautiful face made Dayang Sumbi contested by the princes.\\nAs a princess from the kingdom, Dayang Sumbi has a weaving hobby. One time, when she was busy weaving cloth, suddenly her loom fell. Instead of taking it herself, Dayang Sumbi said an oath: if the one who took the loom were a man, then she would take him as her husband, but if the one who took the loom were a woman, she would make her a sister.\\nUnexpectedly, sometime later, there came a male dog named Si Tumang, which brought Dayang Sumbi’s loom. Finally, to fulfill her oath, Dayang Sumbi married Tumang (long story short, Tumang was a god who was expelled from heaven). From that marriage, a son named Sangkuriang was born.\\nTime went on until Sangkuriang grew into a handsome boy. One day, Sangkuriang found out that his mother wanted to eat a deer’s liver. Sangkuriang also hunted into the forest with Tumang. While hunting, Sangkuriang felt upset because he hadn’t successfully hunted any animals. Then, he decided to kill Tumang and gave Tumang’s heart to his mother.\\nMoments later, Dayang Sumbi found out that Sangkuriang had killed Tumang. Furiously, Dayang Sumbi hit Sangkuriang’s head and threw him out of the house.\\nYears later, Sangkuriang, who was kicked out of the house, had grown into a handsome man. While Dayang Sumbi remained young, this was because at that time Dayang Sumbi ate Tumang’s liver. One day, Sangkuriang met Dayang Sumbi again, and they fell in love with each other.\\nDayang Sumbi, who finally found out that the young man was her biological son who had been expelled for years, insisted on refusing and decided on Sangkuriang to do an impossible assignment.\\nDayang Sumbi said that if Sangkuriang wanted to marry her, he had to build a big boat in just one night. Sangkuriang also agreed. With the help of the spirits, Sangkuriang almost succeeded in the task before dawn.\\nHowever, Dayang Sumbi did not remain silent. She and the women around her pounded the mortar and made it look like the dawn had come. The spirits fled, so Sangkuriang failed to finish his boat. This made Sangkuriang furious and kicked the boat upside down. The overturned boat is now known as Mount Tangkuban Perahu.\\n')]"
      ]
     },
     "execution_count": 6,
     "metadata": {},
     "output_type": "execute_result"
    }
   ],
   "source": [
    "# Text loader\n",
    "from langchain_community.document_loaders import TextLoader\n",
    "text_loader = TextLoader('./sources/sangkuriang.txt')\n",
    "text_loader.load()"
   ]
  },
  {
   "cell_type": "code",
   "execution_count": 3,
   "metadata": {},
   "outputs": [
    {
     "data": {
      "text/plain": [
       "[Document(metadata={'source': './sources/sangkuriang.pdf', 'page': 0}, page_content='Sangkuriang Story\\nThe legend tells that, long ago, there lived a beautiful woman named Dayang Sumbi, the daughter\\nof the king of Sumbing Perbangkara. Her beautiful face made Dayang Sumbi contested by the\\nprinces.\\nAs a princess from the kingdom, Dayang Sumbi has a weaving hobby. One time, when she was\\nbusy weaving cloth, suddenly her loom fell. Instead of taking it herself, Dayang Sumbi said an oath:\\nif the one who took the loom were a man, then she would take him as her husba nd, but if the one\\nwho took the loom were a woman, she would make her a sister.\\nUnexpectedly, sometime later, there came a male dog named Si Tuma ng, which brought Dayang\\nSumbi’s loom. Finally, to fulfill her oath, Dayang Sumbi married Tumang (long story short, Tumang\\nwas a god who was expelled from heaven). From that marriage, a son named Sangkuria ng was\\nborn.\\nTime went on until Sangkuriang grew into a handsome boy. One day, Sangkuriang found out t hat\\nhis mother wanted to eat a deer’s liver. Sangkuriang also hunted into the forest with Tumang. While\\nhunting, Sangkuriang felt upset because he hadn’t successfully hunted any animals. Then,  he\\ndecided to kill Tumang and gave Tumang’s heart to his mother.\\nMoments later, Dayang Sumbi found out that Sangkuriang had killed Tumang. Furiously, Dayang\\nSumbi hit Sangkuriang’s head and threw him out of the house.\\nYears later, Sangkuriang, who was kicked out of the house, had grown into a handsome  man. While\\nDayang Sumbi remained young, this was because at that time Dayang Sumbi ate Tumang’s liver.\\nOne day, Sangkuriang met Dayang Sumbi again, and they fell in love with each other.\\nDayang Sumbi, who finally found out that the young man was her biological son who ha d been\\nexpelled for years, insisted on refusing and decided on Sangkuriang to do an impossible assignment.\\nDayang Sumbi said that if Sangkuriang wanted to marry her, he had to build a big boat in just one\\nnight. Sangkuriang also agreed. With the help of the spirits, Sangkuriang almost suc ceeded in the\\ntask before dawn.\\nHowever, Dayang Sumbi did not remain silent. She and the women around her pounded t he mortar\\nand made it look like the dawn had come. The spirits fled, so Sangkuriang fa iled to finish his boat.\\nThis made Sangkuriang furious and kicked the boat upside down. The overturned boat is now\\nknown as Mount Tangkuban Perahu.')]"
      ]
     },
     "execution_count": 3,
     "metadata": {},
     "output_type": "execute_result"
    }
   ],
   "source": [
    "# PDF loader\n",
    "from langchain_community.document_loaders import PyPDFLoader\n",
    "pdf_loader = PyPDFLoader(\"./sources/sangkuriang.pdf\")\n",
    "pdf_loader.load()"
   ]
  },
  {
   "cell_type": "code",
   "execution_count": 4,
   "metadata": {},
   "outputs": [
    {
     "data": {
      "text/plain": [
       "[Document(metadata={'source': './sources/country.csv', 'row': 0}, page_content='Country: Indonesia\\nCapital: Jakarta\\nGDP (billions): 3'),\n",
       " Document(metadata={'source': './sources/country.csv', 'row': 1}, page_content='Country: Japan\\nCapital: Tokyo\\nGDP (billions): 10'),\n",
       " Document(metadata={'source': './sources/country.csv', 'row': 2}, page_content='Country: USA\\nCapital: Washington\\nGDP (billions): 15'),\n",
       " Document(metadata={'source': './sources/country.csv', 'row': 3}, page_content='Country: Rusia\\nCapital: Moskow\\nGDP (billions): 15'),\n",
       " Document(metadata={'source': './sources/country.csv', 'row': 4}, page_content='Country: UK\\nCapital: London\\nGDP (billions): 12')]"
      ]
     },
     "execution_count": 4,
     "metadata": {},
     "output_type": "execute_result"
    }
   ],
   "source": [
    "# CSV loader\n",
    "\n",
    "from langchain_community.document_loaders import CSVLoader\n",
    "loader = CSVLoader(\n",
    "    file_path=\"./sources/country.csv\",\n",
    "    # csv_args={\n",
    "    #     \"delimiter\": \",\",\n",
    "    #     \"quotechar\": '\"',\n",
    "    #     \"fieldnames\": [\"MLB Team\", \"Payroll in millions\", \"Wins\"],\n",
    "    # },\n",
    ")\n",
    "\n",
    "loader.load()"
   ]
  },
  {
   "cell_type": "code",
   "execution_count": 18,
   "metadata": {},
   "outputs": [],
   "source": [
    "# JSON loader\n",
    "# !pip install jq\n",
    "\n",
    "# from langchain_community.document_loaders import JSONLoader\n",
    "\n",
    "# file_path = './sources/random.json'\n",
    "# loader = JSONLoader(file_path, jq_schema=\".[]\")\n",
    "# loader.load()"
   ]
  }
 ],
 "metadata": {
  "kernelspec": {
   "display_name": ".venv",
   "language": "python",
   "name": "python3"
  },
  "language_info": {
   "codemirror_mode": {
    "name": "ipython",
    "version": 3
   },
   "file_extension": ".py",
   "mimetype": "text/x-python",
   "name": "python",
   "nbconvert_exporter": "python",
   "pygments_lexer": "ipython3",
   "version": "3.12.3"
  }
 },
 "nbformat": 4,
 "nbformat_minor": 2
}
