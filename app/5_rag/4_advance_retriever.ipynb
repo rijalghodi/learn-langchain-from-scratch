{
 "cells": [
  {
   "cell_type": "markdown",
   "metadata": {},
   "source": [
    "# Advance Retriever"
   ]
  },
  {
   "cell_type": "code",
   "execution_count": 1,
   "metadata": {},
   "outputs": [
    {
     "data": {
      "text/plain": [
       "True"
      ]
     },
     "execution_count": 1,
     "metadata": {},
     "output_type": "execute_result"
    }
   ],
   "source": [
    "from dotenv import load_dotenv\n",
    "\n",
    "load_dotenv()"
   ]
  },
  {
   "cell_type": "markdown",
   "metadata": {},
   "source": [
    "There are three strategy to retrieve data from vector store. But first, let's create a vector store"
   ]
  },
  {
   "cell_type": "code",
   "execution_count": 2,
   "metadata": {},
   "outputs": [],
   "source": [
    "from langchain_chroma import Chroma\n",
    "from langchain.embeddings import OpenAIEmbeddings\n",
    "from langchain_community.document_loaders import TextLoader\n",
    "from langchain.text_splitter import TokenTextSplitter\n",
    "import os\n",
    "\n",
    "embeddings = OpenAIEmbeddings()\n",
    "\n",
    "persist_directory = './db/sangkuriang_db'\n",
    "# Create vector store\n",
    "if not os.path.exists(persist_directory):\n",
    "    text_loader = TextLoader('./sources/sangkuriang.txt')\n",
    "    text = text_loader.load()\n",
    "\n",
    "    splitter = TokenTextSplitter(chunk_size=70, chunk_overlap=10, encoding_name=\"cl100k_base\")\n",
    "    splitted_text = splitter.split_documents(text)\n",
    "\n",
    "    Chroma.from_documents(splitted_text, embedding=embeddings, persist_directory=persist_directory)\n",
    "\n",
    "# Get vectror store\n",
    "vectorstore = Chroma(persist_directory=persist_directory, embedding_function=embeddings)"
   ]
  },
  {
   "cell_type": "markdown",
   "metadata": {},
   "source": [
    "### Similarity search\n",
    "- Using cosine similarity to search data\n",
    "- Cosine simliarity measure distance between query vector and each data\n",
    "\n",
    "Watch [this video](https://youtu.be/e9U0QAFbfLI) for more information"
   ]
  },
  {
   "cell_type": "code",
   "execution_count": 3,
   "metadata": {},
   "outputs": [
    {
     "data": {
      "text/plain": [
       "['kuriang felt upset because he hadn’t successfully hunted any animals. Then, he decided to kill Tumang and gave Tumang’s heart to his mother.\\nMoments later, Dayang Sumbi found out that Sangkuriang had killed Tumang. Furiously, Dayang Sumbi hit Sangkuriang’s head and threw him out of the house.\\nYears later, Sangkuriang, who was kicked out of the house, had grown into a handsome',\n",
       " ' Sumbi married Tumang (long story short, Tumang was a god who was expelled from heaven). From that marriage, a son named Sangkuriang was born.\\nTime went on until Sangkuriang grew into a handsome boy. One day, Sangkuriang found out that his mother wanted to eat a deer’s liver. Sangkuriang also hunted into the forest with Tumang. While hunting, Sangkuriang felt upset because he hadn’t successfully',\n",
       " ' out of the house, had grown into a handsome man. While Dayang Sumbi remained young, this was because at that time Dayang Sumbi ate Tumang’s liver. One day, Sangkuriang met Dayang Sumbi again, and they fell in love with each other.\\nDayang Sumbi, who finally found out that the young man was her biological son who had been expelled for years, insisted on refusing and decided on Sangkuriang to do']"
      ]
     },
     "execution_count": 3,
     "metadata": {},
     "output_type": "execute_result"
    }
   ],
   "source": [
    "retriever = vectorstore.as_retriever(\n",
    "    search_type='similarity', search_kwargs={'k': 3})\n",
    "results = retriever.invoke(\"Why Sangkuriang kill Tumang?\")\n",
    "\n",
    "[res.page_content for res in results ]"
   ]
  },
  {
   "cell_type": "markdown",
   "metadata": {},
   "source": [
    "2. Similarity seach with threshold\n",
    "- This performs a similarity search, but only returns documents with a similarity score above a specified threshold.\n",
    "- You can set the threshold using the search_kwargs parameter, e.g., search_kwargs={\"score_threshold\": 0.5}."
   ]
  },
  {
   "cell_type": "code",
   "execution_count": 4,
   "metadata": {},
   "outputs": [
    {
     "data": {
      "text/plain": [
       "['kuriang felt upset because he hadn’t successfully hunted any animals. Then, he decided to kill Tumang and gave Tumang’s heart to his mother.\\nMoments later, Dayang Sumbi found out that Sangkuriang had killed Tumang. Furiously, Dayang Sumbi hit Sangkuriang’s head and threw him out of the house.\\nYears later, Sangkuriang, who was kicked out of the house, had grown into a handsome',\n",
       " ' Sumbi married Tumang (long story short, Tumang was a god who was expelled from heaven). From that marriage, a son named Sangkuriang was born.\\nTime went on until Sangkuriang grew into a handsome boy. One day, Sangkuriang found out that his mother wanted to eat a deer’s liver. Sangkuriang also hunted into the forest with Tumang. While hunting, Sangkuriang felt upset because he hadn’t successfully',\n",
       " ' out of the house, had grown into a handsome man. While Dayang Sumbi remained young, this was because at that time Dayang Sumbi ate Tumang’s liver. One day, Sangkuriang met Dayang Sumbi again, and they fell in love with each other.\\nDayang Sumbi, who finally found out that the young man was her biological son who had been expelled for years, insisted on refusing and decided on Sangkuriang to do']"
      ]
     },
     "execution_count": 4,
     "metadata": {},
     "output_type": "execute_result"
    }
   ],
   "source": [
    "retriever = vectorstore.as_retriever(\n",
    "    search_type='similarity_score_threshold',\n",
    "    search_kwargs={\"score_threshold\": 0.7, \"k\": 3})\n",
    "results = retriever.invoke(\"Why Sangkuriang kill Tumang?\")\n",
    "\n",
    "[res.page_content for res in results ]"
   ]
  },
  {
   "cell_type": "markdown",
   "metadata": {},
   "source": [
    "3. Maximum marginal relevance search\n",
    "\n",
    "This method balances selecting documents that are relevant to the query while ensuring diversity among them.\n",
    "- `fetch_k` specifies the number of documents to initially retrieve based on similarity.\n",
    "- `lambda_mult` controls the diversity of the results: 1 for minimum diversity, 0 for maximum diversity.\n",
    "Use this when you want to avoid redundancy and retrieve documents that are both relevant and diverse.\n",
    "\n",
    "Note: Relevance measures how closely documents match the query.\n",
    "Note: Diversity ensures that the retrieved documents are not too similar to each other,\n",
    "      providing a broader range of information."
   ]
  },
  {
   "cell_type": "code",
   "execution_count": 5,
   "metadata": {},
   "outputs": [
    {
     "name": "stderr",
     "output_type": "stream",
     "text": [
      "Number of requested results 20 is greater than number of elements in index 7, updating n_results = 7\n"
     ]
    },
    {
     "data": {
      "text/plain": [
       "['kuriang felt upset because he hadn’t successfully hunted any animals. Then, he decided to kill Tumang and gave Tumang’s heart to his mother.\\nMoments later, Dayang Sumbi found out that Sangkuriang had killed Tumang. Furiously, Dayang Sumbi hit Sangkuriang’s head and threw him out of the house.\\nYears later, Sangkuriang, who was kicked out of the house, had grown into a handsome',\n",
       " ' Sumbi married Tumang (long story short, Tumang was a god who was expelled from heaven). From that marriage, a son named Sangkuriang was born.\\nTime went on until Sangkuriang grew into a handsome boy. One day, Sangkuriang found out that his mother wanted to eat a deer’s liver. Sangkuriang also hunted into the forest with Tumang. While hunting, Sangkuriang felt upset because he hadn’t successfully',\n",
       " ' and made it look like the dawn had come. The spirits fled, so Sangkuriang failed to finish his boat. This made Sangkuriang furious and kicked the boat upside down. The overturned boat is now known as Mount Tangkuban Perahu.\\n']"
      ]
     },
     "execution_count": 5,
     "metadata": {},
     "output_type": "execute_result"
    }
   ],
   "source": [
    "retriever = vectorstore.as_retriever(\n",
    "    search_type='mmr',\n",
    "    search_kwargs={\"k\": 3, \"lambda_mult\": 0.7, \"fetch_k\": 20})\n",
    "results = retriever.invoke(\"Why Sangkuriang kill Tumang?\")\n",
    "\n",
    "[res.page_content for res in results ]"
   ]
  }
 ],
 "metadata": {
  "kernelspec": {
   "display_name": ".venv",
   "language": "python",
   "name": "python3"
  },
  "language_info": {
   "codemirror_mode": {
    "name": "ipython",
    "version": 3
   },
   "file_extension": ".py",
   "mimetype": "text/x-python",
   "name": "python",
   "nbconvert_exporter": "python",
   "pygments_lexer": "ipython3",
   "version": "3.12.3"
  }
 },
 "nbformat": 4,
 "nbformat_minor": 2
}
