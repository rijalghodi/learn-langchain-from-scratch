{
 "cells": [
  {
   "cell_type": "markdown",
   "metadata": {},
   "source": [
    "# Advance Retriever"
   ]
  },
  {
   "cell_type": "code",
   "execution_count": 99,
   "metadata": {},
   "outputs": [
    {
     "data": {
      "text/plain": [
       "True"
      ]
     },
     "execution_count": 99,
     "metadata": {},
     "output_type": "execute_result"
    }
   ],
   "source": [
    "from dotenv import load_dotenv\n",
    "\n",
    "load_dotenv()"
   ]
  },
  {
   "cell_type": "markdown",
   "metadata": {},
   "source": [
    "There are three strategy to retrieve data from vector store. But first, let's create a vector store"
   ]
  },
  {
   "cell_type": "code",
   "execution_count": 127,
   "metadata": {},
   "outputs": [],
   "source": [
    "from langchain_chroma import Chroma\n",
    "from langchain.embeddings import OpenAIEmbeddings\n",
    "from langchain_community.document_loaders import TextLoader\n",
    "import os\n",
    "\n",
    "embeddings = OpenAIEmbeddings()\n",
    "\n",
    "persist_directory = './db/sangkuriang_db'\n",
    "# Create vector store\n",
    "if not os.path.exists(persist_directory):\n",
    "    text_loader = TextLoader('./sources/sangkuriang.txt')\n",
    "    text = text_loader.load()\n",
    "\n",
    "    splitter = TokenTextSplitter(chunk_size=70, chunk_overlap=10, encoding_name=\"cl100k_base\")\n",
    "    splitted_text = splitter.split_documents(text)\n",
    "\n",
    "    Chroma.from_documents(splitted_text, embedding=embeddings, persist_directory=persist_directory)\n",
    "\n",
    "# Get vectror store\n",
    "vectorstore = Chroma(persist_directory=persist_directory, embedding_function=embeddings)"
   ]
  },
  {
   "cell_type": "markdown",
   "metadata": {},
   "source": [
    "### Similarity search\n",
    "- Using cosine similarity to search data\n",
    "- Cosine simliarity measure distance between query vector and each data\n",
    "\n",
    "Watch [this video](https://youtu.be/e9U0QAFbfLI) for more information"
   ]
  },
  {
   "cell_type": "code",
   "execution_count": 131,
   "metadata": {},
   "outputs": [
    {
     "data": {
      "text/plain": [
       "['kuriang felt upset because he hadn’t successfully hunted any animals. Then, he decided to kill Tumang and gave Tumang’s heart to his mother.\\nMoments later, Dayang Sumbi found out that Sangkuriang had killed Tumang. Furiously, Dayang Sumbi hit Sangkuriang’s head and threw him out of the house.\\nYears later, Sangkuriang, who was kicked out of the house, had grown into a handsome',\n",
       " ' Sumbi married Tumang (long story short, Tumang was a god who was expelled from heaven). From that marriage, a son named Sangkuriang was born.\\nTime went on until Sangkuriang grew into a handsome boy. One day, Sangkuriang found out that his mother wanted to eat a deer’s liver. Sangkuriang also hunted into the forest with Tumang. While hunting, Sangkuriang felt upset because he hadn’t successfully',\n",
       " ' out of the house, had grown into a handsome man. While Dayang Sumbi remained young, this was because at that time Dayang Sumbi ate Tumang’s liver. One day, Sangkuriang met Dayang Sumbi again, and they fell in love with each other.\\nDayang Sumbi, who finally found out that the young man was her biological son who had been expelled for years, insisted on refusing and decided on Sangkuriang to do']"
      ]
     },
     "execution_count": 131,
     "metadata": {},
     "output_type": "execute_result"
    }
   ],
   "source": [
    "retriever = vectorstore.as_retriever(\n",
    "    search_type='similarity', search_kwargs={'k': 3})\n",
    "results = retriever.invoke(\"Why Sangkuriang kill Tumang?\")\n",
    "\n",
    "[res.page_content for res in results ]"
   ]
  },
  {
   "cell_type": "markdown",
   "metadata": {},
   "source": [
    "2. Similarity seach with threshold\n",
    "- This performs a similarity search, but only returns documents with a similarity score above a specified threshold.\n",
    "- You can set the threshold using the search_kwargs parameter, e.g., search_kwargs={\"score_threshold\": 0.5}."
   ]
  },
  {
   "cell_type": "code",
   "execution_count": 134,
   "metadata": {},
   "outputs": [
    {
     "data": {
      "text/plain": [
       "['kuriang felt upset because he hadn’t successfully hunted any animals. Then, he decided to kill Tumang and gave Tumang’s heart to his mother.\\nMoments later, Dayang Sumbi found out that Sangkuriang had killed Tumang. Furiously, Dayang Sumbi hit Sangkuriang’s head and threw him out of the house.\\nYears later, Sangkuriang, who was kicked out of the house, had grown into a handsome',\n",
       " ' Sumbi married Tumang (long story short, Tumang was a god who was expelled from heaven). From that marriage, a son named Sangkuriang was born.\\nTime went on until Sangkuriang grew into a handsome boy. One day, Sangkuriang found out that his mother wanted to eat a deer’s liver. Sangkuriang also hunted into the forest with Tumang. While hunting, Sangkuriang felt upset because he hadn’t successfully',\n",
       " ' out of the house, had grown into a handsome man. While Dayang Sumbi remained young, this was because at that time Dayang Sumbi ate Tumang’s liver. One day, Sangkuriang met Dayang Sumbi again, and they fell in love with each other.\\nDayang Sumbi, who finally found out that the young man was her biological son who had been expelled for years, insisted on refusing and decided on Sangkuriang to do']"
      ]
     },
     "execution_count": 134,
     "metadata": {},
     "output_type": "execute_result"
    }
   ],
   "source": [
    "retriever = vectorstore.as_retriever(\n",
    "    search_type='similarity_score_threshold',\n",
    "    search_kwargs={\"score_threshold\": 0.7, \"k\": 3})\n",
    "results = retriever.invoke(\"Why Sangkuriang kill Tumang?\")\n",
    "\n",
    "[res.page_content for res in results ]"
   ]
  },
  {
   "cell_type": "markdown",
   "metadata": {},
   "source": [
    "3. Maximum marginal relevance search\n",
    "\n",
    "This method balances selecting documents that are relevant to the query while ensuring diversity among them.\n",
    "- `fetch_k` specifies the number of documents to initially retrieve based on similarity.\n",
    "- `lambda_mult` controls the diversity of the results: 1 for minimum diversity, 0 for maximum diversity.\n",
    "Use this when you want to avoid redundancy and retrieve documents that are both relevant and diverse.\n",
    "\n",
    "Note: Relevance measures how closely documents match the query.\n",
    "Note: Diversity ensures that the retrieved documents are not too similar to each other,\n",
    "      providing a broader range of information."
   ]
  },
  {
   "cell_type": "code",
   "execution_count": 135,
   "metadata": {},
   "outputs": [
    {
     "name": "stderr",
     "output_type": "stream",
     "text": [
      "Number of requested results 20 is greater than number of elements in index 7, updating n_results = 7\n"
     ]
    },
    {
     "data": {
      "text/plain": [
       "['kuriang felt upset because he hadn’t successfully hunted any animals. Then, he decided to kill Tumang and gave Tumang’s heart to his mother.\\nMoments later, Dayang Sumbi found out that Sangkuriang had killed Tumang. Furiously, Dayang Sumbi hit Sangkuriang’s head and threw him out of the house.\\nYears later, Sangkuriang, who was kicked out of the house, had grown into a handsome',\n",
       " ' Sumbi married Tumang (long story short, Tumang was a god who was expelled from heaven). From that marriage, a son named Sangkuriang was born.\\nTime went on until Sangkuriang grew into a handsome boy. One day, Sangkuriang found out that his mother wanted to eat a deer’s liver. Sangkuriang also hunted into the forest with Tumang. While hunting, Sangkuriang felt upset because he hadn’t successfully',\n",
       " ' and made it look like the dawn had come. The spirits fled, so Sangkuriang failed to finish his boat. This made Sangkuriang furious and kicked the boat upside down. The overturned boat is now known as Mount Tangkuban Perahu.\\n']"
      ]
     },
     "execution_count": 135,
     "metadata": {},
     "output_type": "execute_result"
    }
   ],
   "source": [
    "retriever = vectorstore.as_retriever(\n",
    "    search_type='mmr',\n",
    "    search_kwargs={\"k\": 3, \"lambda_mult\": 0.7, \"fetch_k\": 20})\n",
    "results = retriever.invoke(\"Why Sangkuriang kill Tumang?\")\n",
    "\n",
    "[res.page_content for res in results ]"
   ]
  },
  {
   "cell_type": "markdown",
   "metadata": {},
   "source": [
    "## Web Scrapping"
   ]
  },
  {
   "cell_type": "code",
   "execution_count": 8,
   "metadata": {},
   "outputs": [
    {
     "name": "stderr",
     "output_type": "stream",
     "text": [
      "USER_AGENT environment variable not set, consider setting it to identify your requests.\n"
     ]
    },
    {
     "data": {
      "text/plain": [
       "\"\\n\\n\\n\\n\\n\\n\\n\\n\\n\\n\\n\\n\\nApple\\n\\n\\n\\n\\n\\n\\n\\n\\n\\n\\n\\n\\n\\n\\n\\n\\n\\n\\nApple\\n\\nAppleStoreMaciPadiPhoneWatchVisionAirPodsTV & HomeEntertainmentAccessoriesSupport\\n\\n\\n0+\\n\\n\\n\\n\\n\\n\\n\\n\\n\\n\\t\\t\\t\\t\\t\\t\\t\\t\\tFor a limited time, shop your state's eligible products tax‑free — online and\\xa0in‑store. Learn\\xa0more\\n\\n\\n\\n\\n\\n\\n\\n\\n\\n\\n\\xa0\\n\\nApple Vision Pro\\nYou’ve never seen everything like this before.\\n\\nLearn more\\nBuy\\n\\nStream Napoleon on Apple\\xa0TV+\\n\\n\\n\\n\\n\\n\\n\\n\\n\\n\\n\\n\\n\\n \\n\\n\\n\\n\\n\\xa0\\n\\n\\xa0\\n\\n\\n\\n\\n\\nBuy Mac or\\xa0iPad for\\xa0college\\n\\n\\n\\n\\n\\n\\n\\n\\n\\n\\nwith education savings\\n\\n\\n\\n\\n\\n\\n\\nGet a gift card up\\xa0to\\xa0$150*\\n\\n\\n\\n\\n\\n\\n\\n\\nOnly at the Apple\\xa0Store\\n\\n\\n\\n\\nShop\\n\\n\\n\\n\\n\\n\\nBuy Mac or\\xa0iPad for\\xa0college\\n\\n\\n\\n\\n\\n\\n\\n\\n\\n\\nwith education savings\\n\\n\\n\\n\\n\\n\\n\\nGet AirPods with\\xa0Mac*\\n\\n\\n\\n\\n\\n\\n\\n\\nApple\\xa0Pencil with\\xa0iPad*\\n\\n\\n\\n\\n\\n\\n\\n\\nOnly at the Apple\\xa0Store\\n\\n\\n\\n\\nShop\\n\\n\\n \\n\\n\\n\\n\\n\\xa0\\n\\nMacBook\\xa0Air\\nLean. Mean. M3 machine.\\n\\nLearn more\\nBuy\\n\\n\\n\\n\\n\\n\\n\\n\\n\\n\\n\\n\\n\\n\\n\\xa0\\n\\niPhone\\nOur most powerful cameras yet. Ultrafast chips. And USB-C.\\n\\nLearn more\\nShop iPhone\\n\\n\\n\\n\\n\\n\\n\\n\\n\\n\\n\\n\\xa0\\n\\nApple Intelligence\\nAI for the rest of us.\\nComing in beta this fall1\\n\\nLearn more\\nWatch the film\\n\\n\\n\\n\\n\\n\\n\\n\\n\\n\\n\\n\\n\\xa0\\n\\niPad Pro\\nUnbelievably thin. Incredibly\\xa0powerful.\\n\\nLearn more\\nBuy\\n\\n\\n\\n\\n\\n\\n\\n\\n\\n\\n\\n\\n\\xa0\\n\\nApple Watch Series 9\\nSmarter. Brighter. Mightier.\\n\\nLearn more\\nBuy\\n\\n\\n\\n\\n\\n\\n\\n\\n\\n\\n\\n\\n\\xa0\\n\\nApple Card\\nGet up to 3% Daily\\xa0Cash back with every purchase.\\n\\nLearn more\\nApply now\\nApply now\\n\\n\\n\\n\\n\\n\\n\\n\\n\\n\\n\\n\\n\\xa0\\n\\nApple Trade In\\nGet $170-$620 in credit when you trade in iPhone\\xa011 or higher.2\\n\\nGet your estimate\\n\\n\\n\\n\\n\\n\\n\\n\\n\\n\\n\\n\\n\\xa0\\n\\t\\t\\t\\t\\t\\t\\t\\t\\t\\n\\nTax Holiday starts soon.\\nGet ready to shop eligible products tax-free.\\n\\nLearn more\\n\\n\\n\\n\\n\\n\\n\\n\\n\\n\\n\\n\\n\\nApple TV+\\n\\n\\n\\n\\n\\n\\n\\n\\n\\n\\n\\n\\n\\n\\n\\n\\n\\n\\n\\nFAM Gallery\\n\\n\\n\\n\\n\\nWatch now\\n\\n\\n\\nStronger Arms, Chest, and Back in 21 Days\\n\\n\\n\\n\\n\\nPlay now\\n\\n\\n\\nNBA 2K24 Arcade Edition\\n\\n\\n\\n\\n\\nListen now\\n\\n\\n\\n\\nToday’s Country\\n\\n\\n\\n\\n\\nWatch now\\n\\n\\n\\nCore with Kyle\\n\\n\\n\\n\\n\\nPlay now\\n\\n\\n\\nHello Kitty Island Adventure\\n\\n\\n\\n\\n\\nListen now\\n\\n\\n\\n\\nR&B Now\\n\\n\\n\\n\\n\\n\\n\\n\\n\\n\\n\\n\\nApple Footer\\n\\n\\n* Available for Qualified Purchasers only. Qualified Purchasers receive an Apple\\xa0Gift\\xa0Card when they purchase an Eligible Product at a Qualifying Location through September 30, 2024. Gift card values may vary by Eligible Product. Only one Apple\\xa0Gift\\xa0Card per Eligible Product per Qualified Purchaser. Offer subject to availability. While supplies last. Qualified Purchasers shall receive a discount equal to the value of the Apple\\xa0Gift\\xa0Card off the price of the Eligible Product, but will be charged for all items in their cart, including the Apple\\xa0Gift\\xa0Card. Important notice regarding the checkout receipt and monthly statement for Apple\\xa0Card Monthly Installments (ACMI) purchases with this promotion: Qualified Purchasers selecting ACMI (a 0% APR payment option available only in the U.S.) as payment type at checkout shall receive a discount equal to the value of the Apple\\xa0Gift\\xa0Card off the price of the Eligible Product. This will result in one ACMI installment plan over 12 months for the Eligible Product discounted by the instant credit, and a second ACMI installment plan over 12 months for the full price of the Apple\\xa0Gift\\xa0Card. The total combined amount charged over the two separate ACMI installment plans will reflect the original full retail price of the Eligible Product. Separately, Qualified Purchasers will receive and be charged for the Apple\\xa0Gift\\xa0Card in the amount of the applicable discount off the Eligible Product. Apple\\xa0Card Monthly Installments (ACMI) is a 0% APR payment option that is only available if you select it at checkout in the U.S. for eligible products purchased at Apple\\xa0Store locations, apple.com, the Apple\\xa0Store app, or by calling 1-800-MY-APPLE, and is subject to credit approval and credit limit. See support.apple.com/kb/HT211204 for more information about eligible products. APR ranges may vary based on when you accepted an Apple\\xa0Card. Cardholders who accept an Apple\\xa0Card on and or after February 1, 2024: Variable APRs for Apple\\xa0Card, other than ACMI, range from 19.24% to 29.49% based on creditworthiness. Rates as of February 1, 2024. Existing cardholders: See your Customer Agreement for applicable rates and fee. If you buy an ACMI-eligible product by choosing to pay in full with Apple\\xa0Card (instead of using ACMI), that purchase is subject to the Apple\\xa0Card variable APR, not 0% APR. Taxes and shipping on ACMI purchases are subject to the variable APR, not 0% APR. When you buy an iPhone with ACMI, you’ll need to select AT&T, T-Mobile, or Verizon as your carrier when you check out. An iPhone purchased with ACMI is always unlocked, so you can switch carriers at any time. ACMI is not available for purchases made online at the following special stores: Apple Employee Purchase Plan; participating corporate Employee Purchase Programs; Apple at Work for small businesses; Government and Veterans and Military Purchase Programs; or on refurbished devices. The last month’s payment for each product will be the product’s purchase price, less all other payments at the monthly payment amount. ACMI financing is subject to change at any time for any reason, including but not limited to installment term lengths and eligible products. See support.apple.com/kb/HT211204 for information about upcoming changes to ACMI financing. See the Apple\\xa0Card Customer Agreement for more information about ACMI financing. Apple\\xa0Card is issued by Goldman Sachs Bank USA, Salt Lake City Branch. Available for qualifying applicants in the United States. If you reside in the U.S. territories, please call Goldman Sachs at 877-255-5923 with questions about accessing this offer or applying for Apple\\xa0Card. This offer cannot be combined with the Apple Employee Purchase Plan or business loyalty pricing. Additional restrictions apply. View full terms and conditions of offer here.\\n1. Apple\\xa0Intelligence will be available in beta on iPhone\\xa015\\xa0Pro, iPhone\\xa015\\xa0Pro\\xa0Max, and iPad and Mac with M1 and later, with Siri and device language set to U.S. English, as part of iOS\\xa018, iPadOS\\xa018, and macOS\\xa0Sequoia this fall.\\n\\n2. Trade-in values will vary based on the condition, year, and configuration of your eligible trade-in device. Not all devices are eligible for credit. You must be at least 18 years old to be eligible to trade in for credit or for an Apple\\xa0Gift\\xa0Card. Trade-in value may be applied toward qualifying new device purchase, or added to an Apple\\xa0Gift\\xa0Card. Actual value awarded is based on receipt of a qualifying device matching the description provided when estimate was made. Sales tax may be assessed on full value of a new device purchase. In-store trade-in requires presentation of a valid photo ID (local law may require saving this information). Offer may not be available in all stores, and may vary between in-store and online trade-in. Some stores may have additional requirements. Apple or its trade-in partners reserve the right to refuse or limit quantity of any trade-in transaction for any reason. More details are available from Apple’s trade-in partner for trade-in and recycling of eligible devices. Restrictions and limitations may apply.\\nAvailable in the U.S. on apple.com, in the Apple\\xa0Store app, and at Apple\\xa0Stores.\\nTo access and use all Apple\\xa0Card features and products available only to Apple\\xa0Card users, you must add Apple\\xa0Card to Wallet on an iPhone or iPad that supports and has the latest version of iOS or iPadOS. Apple\\xa0Card is subject to credit approval, available only for qualifying applicants in the United States, and issued by Goldman Sachs Bank USA, Salt Lake City Branch. \\nIf you reside in the U.S. territories, please call Goldman Sachs at 877-255-5923 with questions about Apple\\xa0Card.\\nLearn more about how Apple\\xa0Card applications are evaluated at support.apple.com/kb/HT209218.\\nA subscription is required for Apple\\xa0TV+.\\nMajor League Baseball trademarks and copyrights are used with permission of MLB Advanced Media, L.P. All rights reserved.\\nA subscription is required for Apple\\xa0Arcade, Apple\\xa0Fitness+, and Apple\\xa0Music.\\n\\n\\n\\n\\n\\n\\nShop and Learn\\n\\nShop and Learn\\n\\n\\n\\n\\nStore\\nMac\\niPad\\niPhone\\nWatch\\nVision\\nAirPods\\nTV & Home\\nAirTag\\nAccessories\\nGift Cards\\n\\n\\n\\n\\nApple Wallet\\n\\nApple Wallet\\n\\n\\n\\n\\nWallet\\nApple\\xa0Card\\nApple\\xa0Pay\\nApple\\xa0Cash\\n\\n\\n\\n\\n\\n\\nAccount\\n\\nAccount\\n\\n\\n\\n\\nManage Your Apple\\xa0ID\\nApple Store Account\\niCloud.com\\n\\n\\n\\n\\nEntertainment\\n\\nEntertainment\\n\\n\\n\\n\\nApple\\xa0One\\nApple\\xa0TV+\\nApple\\xa0Music\\nApple\\xa0Arcade\\nApple\\xa0Fitness+\\nApple\\xa0News+\\nApple Podcasts\\nApple\\xa0Books\\nApp\\xa0Store\\n\\n\\n\\n\\n\\n\\nApple Store\\n\\nApple Store\\n\\n\\n\\n\\nFind a Store\\nGenius Bar\\nToday at Apple\\nGroup Reservations\\nApple Camp\\nApple Store App\\nCertified Refurbished\\nApple\\xa0Trade\\xa0In\\nFinancing\\nCarrier Deals at Apple\\nOrder Status\\nShopping Help\\n\\n\\n\\n\\n\\n\\nFor Business\\n\\nFor Business\\n\\n\\n\\n\\nApple and Business\\nShop for Business\\n\\n\\n\\n\\nFor Education\\n\\nFor Education\\n\\n\\n\\n\\nApple and Education\\nShop for K-12\\nShop for College\\n\\n\\n\\n\\nFor Healthcare\\n\\nFor Healthcare\\n\\n\\n\\n\\nApple in Healthcare\\nMac in Healthcare\\nHealth on Apple\\xa0Watch\\nHealth Records on iPhone and iPad\\n\\n\\n\\n\\nFor Government\\n\\nFor Government\\n\\n\\n\\n\\nShop for Government\\nShop for Veterans and Military\\n\\n\\n\\n\\n\\n\\nApple Values\\n\\nApple Values\\n\\n\\n\\n\\nAccessibility\\nEducation\\nEnvironment\\nInclusion and Diversity\\nPrivacy\\nRacial Equity and Justice\\nSupply Chain\\n\\n\\n\\n\\nAbout Apple\\n\\nAbout Apple\\n\\n\\n\\n\\nNewsroom\\nApple Leadership\\nCareer Opportunities\\nInvestors\\nEthics & Compliance\\nEvents\\nContact Apple\\n\\n\\n\\n\\n\\n\\n\\t\\t\\tMore ways to shop: Find an Apple Store or other retailer near you. Or call 1-800-MY-APPLE.\\n\\n\\nUnited States\\n\\n\\nCopyright ©\\n\\t\\t\\t\\t\\n\\t\\t\\t\\t2024\\n\\t\\t\\t\\t Apple Inc. All rights reserved.\\n\\t\\t\\t\\n\\n\\nPrivacy Policy\\n\\n\\nTerms of Use\\n\\n\\nSales and Refunds\\n\\n\\nLegal\\n\\n\\nSite Map\\n\\n\\n\\n\\n\\n\\n\\n\\n\\n\\n\\n\\n\\n\\n\\n\\n\\n\\n\""
      ]
     },
     "execution_count": 8,
     "metadata": {},
     "output_type": "execute_result"
    }
   ],
   "source": [
    "from langchain_community.document_loaders import WebBaseLoader\n",
    "\n",
    "# WebBaseLoader loads web pages and extracts their content\n",
    "urls = [\"https://www.apple.com/\"]\n",
    "\n",
    "# Create a loader for web content\n",
    "loader = WebBaseLoader(urls)\n",
    "apple_doc = loader.load()\n",
    "\n",
    "apple_doc[0].page_content"
   ]
  },
  {
   "cell_type": "markdown",
   "metadata": {},
   "source": [
    "## Youtube Scrapping"
   ]
  },
  {
   "cell_type": "markdown",
   "metadata": {},
   "source": [
    "# Modify Vector DB"
   ]
  }
 ],
 "metadata": {
  "kernelspec": {
   "display_name": ".venv",
   "language": "python",
   "name": "python3"
  },
  "language_info": {
   "codemirror_mode": {
    "name": "ipython",
    "version": 3
   },
   "file_extension": ".py",
   "mimetype": "text/x-python",
   "name": "python",
   "nbconvert_exporter": "python",
   "pygments_lexer": "ipython3",
   "version": "3.12.3"
  }
 },
 "nbformat": 4,
 "nbformat_minor": 2
}
