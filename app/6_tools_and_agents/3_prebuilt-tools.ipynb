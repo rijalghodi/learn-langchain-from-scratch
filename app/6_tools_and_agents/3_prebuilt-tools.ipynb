{
 "cells": [
  {
   "cell_type": "markdown",
   "metadata": {},
   "source": [
    "# Prebuilt Tools"
   ]
  },
  {
   "cell_type": "code",
   "execution_count": 15,
   "metadata": {},
   "outputs": [
    {
     "data": {
      "text/plain": [
       "\"The Maldives, officially the Republic of Maldives, and historically known as the Maldive Islands, is a country and archipelagic state in South Asia in the Indian Ocean. The Maldives is southwest of Sri Lanka and India, about 750 kilometres (470 miles; 400 nautical miles) from the Asian continent's mainland.\""
      ]
     },
     "execution_count": 15,
     "metadata": {},
     "output_type": "execute_result"
    }
   ],
   "source": [
    "from wikipedia import summary\n",
    "\n",
    "summary(\"What is maldives\", sentences=2)\n",
    "# try:\n",
    "#     # Limit to two sentences for brevity\n",
    "#     return summary(query, sentences=2)\n",
    "# except:\n",
    "#     return \"I couldn't find any information on that.\""
   ]
  },
  {
   "cell_type": "code",
   "execution_count": 12,
   "metadata": {},
   "outputs": [],
   "source": [
    "from langchain_core.tools import Tool, tool\n",
    "\n",
    "@tool\n",
    "def search_wikipedia(query: str) -> str:\n",
    "    \"\"\"Searches Wikipedia and returns the summary. Useful for when you need to know information about a topic.\"\"\"\n",
    "\n",
    "    try:\n",
    "        # Limit to two sentences for brevity\n",
    "        return summary(query, sentences=2)\n",
    "    except:\n",
    "        return \"I couldn't find any information on that.\""
   ]
  },
  {
   "cell_type": "code",
   "execution_count": 16,
   "metadata": {},
   "outputs": [
    {
     "data": {
      "text/plain": [
       "{'messages': [HumanMessage(content='What cause UK riot in 2024?', id='d99c1f46-e48d-4f23-975a-66423951459f'),\n",
       "  AIMessage(content='', additional_kwargs={'tool_calls': [{'id': 'call_foubz6All0S7vwVRkOocixry', 'function': {'arguments': '{\"query\":\"UK riot 2024\"}', 'name': 'search_wikipedia'}, 'type': 'function'}], 'refusal': None}, response_metadata={'token_usage': {'completion_tokens': 19, 'prompt_tokens': 66, 'total_tokens': 85}, 'model_name': 'gpt-4o-2024-05-13', 'system_fingerprint': 'fp_3aa7262c27', 'finish_reason': 'tool_calls', 'logprobs': None}, id='run-fb5f05ce-4050-4237-bc1d-a388d201041d-0', tool_calls=[{'name': 'search_wikipedia', 'args': {'query': 'UK riot 2024'}, 'id': 'call_foubz6All0S7vwVRkOocixry', 'type': 'tool_call'}], usage_metadata={'input_tokens': 66, 'output_tokens': 19, 'total_tokens': 85}),\n",
       "  ToolMessage(content=\"I couldn't find any information on that.\", name='search_wikipedia', id='5bd2b459-fe7e-4d34-8fdf-9b90ea19d3ca', tool_call_id='call_foubz6All0S7vwVRkOocixry'),\n",
       "  AIMessage(content=\"It appears there is no information available on a UK riot in 2024. This could be because it hasn't occurred, or it may not be widely documented. If you have any other questions or need information on a different topic, feel free to ask!\", additional_kwargs={'refusal': None}, response_metadata={'token_usage': {'completion_tokens': 52, 'prompt_tokens': 102, 'total_tokens': 154}, 'model_name': 'gpt-4o-2024-05-13', 'system_fingerprint': 'fp_3aa7262c27', 'finish_reason': 'stop', 'logprobs': None}, id='run-aea74356-b99c-4311-a678-64e4d44e6e35-0', usage_metadata={'input_tokens': 102, 'output_tokens': 52, 'total_tokens': 154})]}"
      ]
     },
     "execution_count": 16,
     "metadata": {},
     "output_type": "execute_result"
    }
   ],
   "source": [
    "from langgraph.prebuilt import create_react_agent\n",
    "from langchain_openai import ChatOpenAI\n",
    "from langchain_core.messages import  HumanMessage\n",
    "\n",
    "# Define the tools that the agent can use\n",
    "tools = [\n",
    "   search_wikipedia,\n",
    "]\n",
    "\n",
    "# Initialize a ChatOpenAI model\n",
    "model = ChatOpenAI(model=\"gpt-3.5-turbo\")\n",
    "\n",
    "agent_executor = create_react_agent(model, tools)\n",
    "\n",
    "agent_executor.invoke({\"messages\": HumanMessage(content=\"What is Nasi Goreng?\")})"
   ]
  },
  {
   "cell_type": "code",
   "execution_count": 19,
   "metadata": {},
   "outputs": [
    {
     "data": {
      "text/plain": [
       "{'messages': [HumanMessage(content='What is a main story of Dilan movie?', id='1614c439-8bc2-4fd9-9c6f-41b864b97eef'),\n",
       "  AIMessage(content='', additional_kwargs={'tool_calls': [{'id': 'call_7p5Ttfh06vrLFPczTi8Vk6Ua', 'function': {'arguments': '{\"query\":\"Dilan movie\"}', 'name': 'search_wikipedia'}, 'type': 'function'}], 'refusal': None}, response_metadata={'token_usage': {'completion_tokens': 17, 'prompt_tokens': 67, 'total_tokens': 84}, 'model_name': 'gpt-4o-2024-05-13', 'system_fingerprint': 'fp_3aa7262c27', 'finish_reason': 'tool_calls', 'logprobs': None}, id='run-0973457e-0c60-4726-af59-b15c142a8e43-0', tool_calls=[{'name': 'search_wikipedia', 'args': {'query': 'Dilan movie'}, 'id': 'call_7p5Ttfh06vrLFPczTi8Vk6Ua', 'type': 'tool_call'}], usage_metadata={'input_tokens': 67, 'output_tokens': 17, 'total_tokens': 84}),\n",
       "  ToolMessage(content='Dilan 1991 is a 2019 Indonesian language romantic drama film. Like its prequel, the film is also based on Dilan novel series written by Pidi Baiq, this is from Dilan Bagian Kedua: Dia adalah Dilanku tahun 1991 (Dilan Part Two: He is My Dilan in 1991).', name='search_wikipedia', id='3b82090b-441a-4282-bdbe-017a19624888', tool_call_id='call_7p5Ttfh06vrLFPczTi8Vk6Ua'),\n",
       "  AIMessage(content='', additional_kwargs={'tool_calls': [{'id': 'call_XxKZpUefMLPRBtisPodxUoyQ', 'function': {'arguments': '{\"query\":\"Dilan 1991 film plot\"}', 'name': 'search_wikipedia'}, 'type': 'function'}], 'refusal': None}, response_metadata={'token_usage': {'completion_tokens': 21, 'prompt_tokens': 165, 'total_tokens': 186}, 'model_name': 'gpt-4o-2024-05-13', 'system_fingerprint': 'fp_3aa7262c27', 'finish_reason': 'tool_calls', 'logprobs': None}, id='run-c24c99db-6bf7-4480-a457-8363b6ebef55-0', tool_calls=[{'name': 'search_wikipedia', 'args': {'query': 'Dilan 1991 film plot'}, 'id': 'call_XxKZpUefMLPRBtisPodxUoyQ', 'type': 'tool_call'}], usage_metadata={'input_tokens': 165, 'output_tokens': 21, 'total_tokens': 186}),\n",
       "  ToolMessage(content='Dilan 1991 is a 2019 Indonesian language romantic drama film. Like its prequel, the film is also based on Dilan novel series written by Pidi Baiq, this is from Dilan Bagian Kedua: Dia adalah Dilanku tahun 1991 (Dilan Part Two: He is My Dilan in 1991).', name='search_wikipedia', id='06987d43-80f7-442b-b12d-0eb2e1e91eea', tool_call_id='call_XxKZpUefMLPRBtisPodxUoyQ'),\n",
       "  AIMessage(content='\"Dilan 1991\" is a 2019 Indonesian romantic drama film based on the second book of the Dilan novel series by Pidi Baiq. The story continues from where the prequel left off, focusing on the romantic relationship between Dilan and Milea. The narrative delves into the trials and tribulations they face as a couple, including external pressures and personal challenges, all set against the backdrop of Bandung in 1991. The film highlights themes of young love, loyalty, and the struggles of maintaining a relationship during tumultuous times.', additional_kwargs={'refusal': None}, response_metadata={'token_usage': {'completion_tokens': 113, 'prompt_tokens': 267, 'total_tokens': 380}, 'model_name': 'gpt-4o-2024-05-13', 'system_fingerprint': 'fp_3aa7262c27', 'finish_reason': 'stop', 'logprobs': None}, id='run-2e02318e-a85f-4a60-be41-6f8d46c7f036-0', usage_metadata={'input_tokens': 267, 'output_tokens': 113, 'total_tokens': 380})]}"
      ]
     },
     "execution_count": 19,
     "metadata": {},
     "output_type": "execute_result"
    }
   ],
   "source": [
    "\n",
    "agent_executor.invoke({\"messages\": [HumanMessage(content=\"What is a main story of Dilan movie?\")]})"
   ]
  }
 ],
 "metadata": {
  "kernelspec": {
   "display_name": ".venv",
   "language": "python",
   "name": "python3"
  },
  "language_info": {
   "codemirror_mode": {
    "name": "ipython",
    "version": 3
   },
   "file_extension": ".py",
   "mimetype": "text/x-python",
   "name": "python",
   "nbconvert_exporter": "python",
   "pygments_lexer": "ipython3",
   "version": "3.12.3"
  }
 },
 "nbformat": 4,
 "nbformat_minor": 2
}
