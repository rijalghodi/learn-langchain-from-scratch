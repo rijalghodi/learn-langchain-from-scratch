{
 "cells": [
  {
   "cell_type": "markdown",
   "metadata": {},
   "source": [
    "# Prebuilt Tools"
   ]
  },
  {
   "cell_type": "code",
   "execution_count": 15,
   "metadata": {},
   "outputs": [
    {
     "data": {
      "text/plain": [
       "\"The Maldives, officially the Republic of Maldives, and historically known as the Maldive Islands, is a country and archipelagic state in South Asia in the Indian Ocean. The Maldives is southwest of Sri Lanka and India, about 750 kilometres (470 miles; 400 nautical miles) from the Asian continent's mainland.\""
      ]
     },
     "execution_count": 15,
     "metadata": {},
     "output_type": "execute_result"
    }
   ],
   "source": [
    "from wikipedia import summary\n",
    "\n",
    "summary(\"What is maldives\", sentences=2)\n",
    "# try:\n",
    "#     # Limit to two sentences for brevity\n",
    "#     return summary(query, sentences=2)\n",
    "# except:\n",
    "#     return \"I couldn't find any information on that.\""
   ]
  },
  {
   "cell_type": "code",
   "execution_count": 12,
   "metadata": {},
   "outputs": [],
   "source": [
    "from langchain_core.tools import Tool, tool\n",
    "\n",
    "@tool\n",
    "def search_wikipedia(query: str) -> str:\n",
    "    \"\"\"Searches Wikipedia and returns the summary. Useful for when you need to know information about a topic.\"\"\"\n",
    "\n",
    "    try:\n",
    "        # Limit to two sentences for brevity\n",
    "        return summary(query, sentences=2)\n",
    "    except:\n",
    "        return \"I couldn't find any information on that.\""
   ]
  },
  {
   "cell_type": "code",
   "execution_count": 16,
   "metadata": {},
   "outputs": [
    {
     "data": {
      "text/plain": [
       "{'messages': [HumanMessage(content='What cause UK riot in 2024?', id='d99c1f46-e48d-4f23-975a-66423951459f'),\n",
       "  AIMessage(content='', additional_kwargs={'tool_calls': [{'id': 'call_foubz6All0S7vwVRkOocixry', 'function': {'arguments': '{\"query\":\"UK riot 2024\"}', 'name': 'search_wikipedia'}, 'type': 'function'}], 'refusal': None}, response_metadata={'token_usage': {'completion_tokens': 19, 'prompt_tokens': 66, 'total_tokens': 85}, 'model_name': 'gpt-4o-2024-05-13', 'system_fingerprint': 'fp_3aa7262c27', 'finish_reason': 'tool_calls', 'logprobs': None}, id='run-fb5f05ce-4050-4237-bc1d-a388d201041d-0', tool_calls=[{'name': 'search_wikipedia', 'args': {'query': 'UK riot 2024'}, 'id': 'call_foubz6All0S7vwVRkOocixry', 'type': 'tool_call'}], usage_metadata={'input_tokens': 66, 'output_tokens': 19, 'total_tokens': 85}),\n",
       "  ToolMessage(content=\"I couldn't find any information on that.\", name='search_wikipedia', id='5bd2b459-fe7e-4d34-8fdf-9b90ea19d3ca', tool_call_id='call_foubz6All0S7vwVRkOocixry'),\n",
       "  AIMessage(content=\"It appears there is no information available on a UK riot in 2024. This could be because it hasn't occurred, or it may not be widely documented. If you have any other questions or need information on a different topic, feel free to ask!\", additional_kwargs={'refusal': None}, response_metadata={'token_usage': {'completion_tokens': 52, 'prompt_tokens': 102, 'total_tokens': 154}, 'model_name': 'gpt-4o-2024-05-13', 'system_fingerprint': 'fp_3aa7262c27', 'finish_reason': 'stop', 'logprobs': None}, id='run-aea74356-b99c-4311-a678-64e4d44e6e35-0', usage_metadata={'input_tokens': 102, 'output_tokens': 52, 'total_tokens': 154})]}"
      ]
     },
     "execution_count": 16,
     "metadata": {},
     "output_type": "execute_result"
    }
   ],
   "source": [
    "from langgraph.prebuilt import create_react_agent\n",
    "from langchain_openai import ChatOpenAI\n",
    "from langchain_core.messages import  HumanMessage\n",
    "\n",
    "# Define the tools that the agent can use\n",
    "tools = [\n",
    "   search_wikipedia,\n",
    "]\n",
    "\n",
    "# Initialize a ChatOpenAI model\n",
    "model = ChatOpenAI(model=\"gpt-3.5-turbo\")\n",
    "\n",
    "agent_executor = create_react_agent(model, tools)\n",
    "\n",
    "agent_executor.invoke({\"messages\": HumanMessage(content=\"What is Nasi Goreng?\")})"
   ]
  },
  {
   "cell_type": "code",
   "execution_count": 23,
   "metadata": {},
   "outputs": [
    {
     "data": {
      "text/plain": [
       "{'messages': [HumanMessage(content='What is Edensor?', id='54a7c76e-d94f-4b6a-b3e9-826ceb1d23a5'),\n",
       "  AIMessage(content='', additional_kwargs={'tool_calls': [{'id': 'call_6PZADajRNY1j5gkNLubiUNrM', 'function': {'arguments': '{\"query\":\"Edensor\"}', 'name': 'search_wikipedia'}, 'type': 'function'}], 'refusal': None}, response_metadata={'token_usage': {'completion_tokens': 16, 'prompt_tokens': 62, 'total_tokens': 78}, 'model_name': 'gpt-4o-2024-05-13', 'system_fingerprint': 'fp_3aa7262c27', 'finish_reason': 'tool_calls', 'logprobs': None}, id='run-dcebd14a-d357-4d57-a620-1cb51c4ee195-0', tool_calls=[{'name': 'search_wikipedia', 'args': {'query': 'Edensor'}, 'id': 'call_6PZADajRNY1j5gkNLubiUNrM', 'type': 'tool_call'}], usage_metadata={'input_tokens': 62, 'output_tokens': 16, 'total_tokens': 78}),\n",
       "  ToolMessage(content='Edensor (pronounced  ) is a village and civil parish in Derbyshire, England. The population of the civil parish at the 2011 census was 145.', name='search_wikipedia', id='84b48cbc-5c48-44f5-abdf-a16ed8aff42f', tool_call_id='call_6PZADajRNY1j5gkNLubiUNrM'),\n",
       "  AIMessage(content='Edensor is a village and civil parish located in Derbyshire, England. As of the 2011 census, it had a population of 145.', additional_kwargs={'refusal': None}, response_metadata={'token_usage': {'completion_tokens': 32, 'prompt_tokens': 122, 'total_tokens': 154}, 'model_name': 'gpt-4o-2024-05-13', 'system_fingerprint': 'fp_c9aa9c0491', 'finish_reason': 'stop', 'logprobs': None}, id='run-66d940fc-e414-4ae8-8704-c188b917aba8-0', usage_metadata={'input_tokens': 122, 'output_tokens': 32, 'total_tokens': 154})]}"
      ]
     },
     "execution_count": 23,
     "metadata": {},
     "output_type": "execute_result"
    }
   ],
   "source": [
    "\n",
    "agent_executor.invoke({\"messages\": [HumanMessage(content=\"What is Edensor?\")]})"
   ]
  }
 ],
 "metadata": {
  "kernelspec": {
   "display_name": ".venv",
   "language": "python",
   "name": "python3"
  },
  "language_info": {
   "codemirror_mode": {
    "name": "ipython",
    "version": 3
   },
   "file_extension": ".py",
   "mimetype": "text/x-python",
   "name": "python",
   "nbconvert_exporter": "python",
   "pygments_lexer": "ipython3",
   "version": "3.12.3"
  }
 },
 "nbformat": 4,
 "nbformat_minor": 2
}
